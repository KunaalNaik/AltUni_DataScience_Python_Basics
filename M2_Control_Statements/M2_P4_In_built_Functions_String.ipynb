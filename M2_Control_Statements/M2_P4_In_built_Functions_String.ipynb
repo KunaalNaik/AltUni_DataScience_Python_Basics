{
 "cells": [
  {
   "cell_type": "markdown",
   "id": "a1bd6d25-fafd-4c6e-b51e-9548c0258f4e",
   "metadata": {},
   "source": [
    "# Introduction to Python\n",
    "---\n",
    "## In-built Functions - String\n",
    "\n",
    "**Already seen**\n",
    "- slicing\n",
    "- upper()\n",
    "- lower()"
   ]
  },
  {
   "cell_type": "markdown",
   "id": "7b10f802-c64c-4367-8658-b19c02266509",
   "metadata": {},
   "source": [
    "### str"
   ]
  },
  {
   "cell_type": "code",
   "execution_count": 1,
   "id": "4eee901b-e3ef-48a9-afa4-efbe575ecc40",
   "metadata": {},
   "outputs": [],
   "source": [
    "brand = 'AltUni'"
   ]
  },
  {
   "cell_type": "code",
   "execution_count": 2,
   "id": "2f4bd795-06d8-4abe-b581-f9d30b5392af",
   "metadata": {},
   "outputs": [
    {
     "name": "stdout",
     "output_type": "stream",
     "text": [
      "['A', 'l', 't', 'U', 'n', 'i']\n"
     ]
    }
   ],
   "source": [
    "# User Defined Function used to convert string to list\n",
    "def convert_str_to_list(string):\n",
    "    list1=[]\n",
    "    list1[:0]=string\n",
    "    return list1\n",
    "\n",
    "# use user defined function \"convert_str_to_list\"\n",
    "brand_list = convert_str_to_list(brand)\n",
    "\n",
    "print(brand_list)"
   ]
  },
  {
   "cell_type": "markdown",
   "id": "e29f5698-31de-40ae-b039-e8a91ff8e6b4",
   "metadata": {},
   "source": [
    "### isupper"
   ]
  },
  {
   "cell_type": "code",
   "execution_count": 3,
   "id": "0f32ec13-69f3-42d1-9798-3066be198b19",
   "metadata": {},
   "outputs": [
    {
     "data": {
      "text/plain": [
       "False"
      ]
     },
     "execution_count": 3,
     "metadata": {},
     "output_type": "execute_result"
    }
   ],
   "source": [
    "brand.isupper()"
   ]
  },
  {
   "cell_type": "markdown",
   "id": "fa21d086-946f-46f5-8be3-9f1c1fa55862",
   "metadata": {},
   "source": [
    "### lower"
   ]
  },
  {
   "cell_type": "code",
   "execution_count": 4,
   "id": "442968a0-c417-400c-8837-f1731a4d6a09",
   "metadata": {},
   "outputs": [
    {
     "data": {
      "text/plain": [
       "False"
      ]
     },
     "execution_count": 4,
     "metadata": {},
     "output_type": "execute_result"
    }
   ],
   "source": [
    "brand.islower()"
   ]
  },
  {
   "cell_type": "markdown",
   "id": "9845ae75-5e6d-4399-aa68-54a0ff572039",
   "metadata": {},
   "source": [
    "## String Slicing"
   ]
  },
  {
   "cell_type": "code",
   "execution_count": 5,
   "id": "e461c272-cda1-4b14-b7fa-5a9cfb44c271",
   "metadata": {},
   "outputs": [
    {
     "data": {
      "text/plain": [
       "'U'"
      ]
     },
     "execution_count": 5,
     "metadata": {},
     "output_type": "execute_result"
    }
   ],
   "source": [
    "brand[3]"
   ]
  },
  {
   "cell_type": "code",
   "execution_count": 6,
   "id": "0924b63c-a2a1-4485-aae6-0ca383717a23",
   "metadata": {},
   "outputs": [
    {
     "data": {
      "text/plain": [
       "'i'"
      ]
     },
     "execution_count": 6,
     "metadata": {},
     "output_type": "execute_result"
    }
   ],
   "source": [
    "brand[5]"
   ]
  }
 ],
 "metadata": {
  "kernelspec": {
   "display_name": "Python 3",
   "language": "python",
   "name": "python3"
  },
  "language_info": {
   "codemirror_mode": {
    "name": "ipython",
    "version": 3
   },
   "file_extension": ".py",
   "mimetype": "text/x-python",
   "name": "python",
   "nbconvert_exporter": "python",
   "pygments_lexer": "ipython3",
   "version": "3.8.8"
  },
  "toc-autonumbering": true
 },
 "nbformat": 4,
 "nbformat_minor": 5
}
