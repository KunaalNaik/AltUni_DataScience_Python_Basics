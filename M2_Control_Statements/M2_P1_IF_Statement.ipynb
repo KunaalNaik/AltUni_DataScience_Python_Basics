{
 "cells": [
  {
   "cell_type": "markdown",
   "id": "a1bd6d25-fafd-4c6e-b51e-9548c0258f4e",
   "metadata": {},
   "source": [
    "# Introduction to Python\n",
    "---\n",
    "## If Statement\n",
    "- If\n",
    "- Else\n",
    "- Elif"
   ]
  },
  {
   "cell_type": "markdown",
   "id": "7b10f802-c64c-4367-8658-b19c02266509",
   "metadata": {},
   "source": [
    "### If"
   ]
  },
  {
   "cell_type": "code",
   "execution_count": 1,
   "id": "a6040cea-3342-4b06-93f2-85b483c27df7",
   "metadata": {},
   "outputs": [
    {
     "name": "stdout",
     "output_type": "stream",
     "text": [
      "Or this?\n"
     ]
    }
   ],
   "source": [
    "if (2 > 3):    # Notice that a statement is followed by a :\n",
    "    print ('Will it print this?')\n",
    "else:\n",
    "    print ('Or this?')"
   ]
  },
  {
   "cell_type": "code",
   "execution_count": 2,
   "id": "4eee901b-e3ef-48a9-afa4-efbe575ecc40",
   "metadata": {},
   "outputs": [
    {
     "ename": "IndentationError",
     "evalue": "expected an indented block (<ipython-input-2-fa24036d501c>, line 2)",
     "output_type": "error",
     "traceback": [
      "\u001b[1;36m  File \u001b[1;32m\"<ipython-input-2-fa24036d501c>\"\u001b[1;36m, line \u001b[1;32m2\u001b[0m\n\u001b[1;33m    print ('Will it print this?')\u001b[0m\n\u001b[1;37m    ^\u001b[0m\n\u001b[1;31mIndentationError\u001b[0m\u001b[1;31m:\u001b[0m expected an indented block\n"
     ]
    }
   ],
   "source": [
    "if (2 > 3):    # Notice that a statement is followed by a :\n",
    "print ('Will it print this?')\n",
    "else:\n",
    "print ('Or this?')"
   ]
  },
  {
   "cell_type": "code",
   "execution_count": 4,
   "id": "5036e195-da91-4779-8df0-92049344c8ca",
   "metadata": {},
   "outputs": [
    {
     "name": "stdout",
     "output_type": "stream",
     "text": [
      "Will it print this?\n"
     ]
    }
   ],
   "source": [
    "# we can also assign variable and then write a statement\n",
    "i = 5\n",
    "\n",
    "if (i > 3):    # Notice that a statement is followed by a :\n",
    "    print ('Will it print this?')\n",
    "else:\n",
    "    print ('Or this?')"
   ]
  },
  {
   "cell_type": "markdown",
   "id": "e29f5698-31de-40ae-b039-e8a91ff8e6b4",
   "metadata": {},
   "source": [
    "### If else"
   ]
  },
  {
   "cell_type": "code",
   "execution_count": 5,
   "id": "22f22996-0b7d-4bcd-8f7e-f4b7112983fa",
   "metadata": {},
   "outputs": [
    {
     "name": "stdout",
     "output_type": "stream",
     "text": [
      "Not Eligible for applying a job\n",
      "Currently the if Block\n",
      "I will be printed, no matter what!\n"
     ]
    }
   ],
   "source": [
    "age = 18\n",
    "if (age < 19):\n",
    "    print(\"Not Eligible for applying a job\")\n",
    "    print(\"Currently the if Block\")\n",
    "else:\n",
    "    print(\"Eligible\")\n",
    "    print(\"Currently the else Block\")\n",
    "\n",
    "print(\"I will be printed, no matter what!\")"
   ]
  },
  {
   "cell_type": "code",
   "execution_count": 6,
   "id": "1dcc94e2-90f8-4fe2-8461-69061db33ca0",
   "metadata": {},
   "outputs": [
    {
     "name": "stdout",
     "output_type": "stream",
     "text": [
      "Eligible\n",
      "Currently the else Block\n",
      "I will be printed, no matter what!\n"
     ]
    }
   ],
   "source": [
    "age = 21\n",
    "if (age < 19):\n",
    "    print(\"Not Eligible for applying a job\")\n",
    "    print(\"Currently the if Block\")\n",
    "else:\n",
    "    print(\"Eligible\")\n",
    "    print(\"Currently the else Block\")\n",
    "    \n",
    "print(\"I will be printed, no matter what!\")"
   ]
  },
  {
   "cell_type": "markdown",
   "id": "32905b27-99c4-43a9-92be-a9ab0249df6a",
   "metadata": {},
   "source": [
    "### If else elif"
   ]
  },
  {
   "cell_type": "code",
   "execution_count": 7,
   "id": "a7fcccf4-47e0-48ea-ae4c-d999f50a24b8",
   "metadata": {},
   "outputs": [
    {
     "name": "stdout",
     "output_type": "stream",
     "text": [
      "Child\n"
     ]
    }
   ],
   "source": [
    "age = 11\n",
    "\n",
    "if (age <= 12):\n",
    "    print(\"Child\")\n",
    "elif (age >= 13 and age <=19) :\n",
    "    print(\"Teen\")\n",
    "else:\n",
    "    print(\"Adult\")"
   ]
  },
  {
   "cell_type": "code",
   "execution_count": 8,
   "id": "442968a0-c417-400c-8837-f1731a4d6a09",
   "metadata": {},
   "outputs": [
    {
     "name": "stdout",
     "output_type": "stream",
     "text": [
      "Teen\n"
     ]
    }
   ],
   "source": [
    "age = 18\n",
    "\n",
    "if (age <= 12):\n",
    "    print(\"Child\")\n",
    "elif (age >= 13 and age <=19) :\n",
    "    print(\"Teen\")\n",
    "else:\n",
    "    print(\"Adult\")"
   ]
  },
  {
   "cell_type": "code",
   "execution_count": 9,
   "id": "41a998a1-ceb6-4161-b553-9d5fc3174415",
   "metadata": {},
   "outputs": [
    {
     "name": "stdout",
     "output_type": "stream",
     "text": [
      "Adult\n"
     ]
    }
   ],
   "source": [
    "age = 100\n",
    "\n",
    "if (age <= 12):\n",
    "    print(\"Child\")\n",
    "elif (age >= 13 and age <=19) :\n",
    "    print(\"Teen\")\n",
    "else:\n",
    "    print(\"Adult\")"
   ]
  },
  {
   "cell_type": "markdown",
   "id": "58aa7ad0-34c5-4f9a-b187-6eb6897a4510",
   "metadata": {},
   "source": [
    "### Note: Difference between \"and\" and \"&\"\n",
    "- and is a Logical AND that returns True if both the operands are true\n",
    "- ‘&’ is a bitwise operator in Python that acts on bits and performs bit by bit operation"
   ]
  },
  {
   "cell_type": "code",
   "execution_count": 10,
   "id": "fb4faa3a-eaef-4e9b-8f53-3d8d2b5f54d0",
   "metadata": {},
   "outputs": [
    {
     "name": "stdout",
     "output_type": "stream",
     "text": [
      "4\n",
      "20\n"
     ]
    }
   ],
   "source": [
    "age1, age2 = 15, 20\n",
    "\n",
    "print(age1 & age2)\n",
    "print(age1 and age2) # use this moving forward "
   ]
  },
  {
   "cell_type": "code",
   "execution_count": null,
   "id": "8ad0ee18-c9f5-4bda-80f1-7c8b33439cf0",
   "metadata": {},
   "outputs": [],
   "source": []
  }
 ],
 "metadata": {
  "kernelspec": {
   "display_name": "Python 3",
   "language": "python",
   "name": "python3"
  },
  "language_info": {
   "codemirror_mode": {
    "name": "ipython",
    "version": 3
   },
   "file_extension": ".py",
   "mimetype": "text/x-python",
   "name": "python",
   "nbconvert_exporter": "python",
   "pygments_lexer": "ipython3",
   "version": "3.8.8"
  },
  "toc-autonumbering": true
 },
 "nbformat": 4,
 "nbformat_minor": 5
}
