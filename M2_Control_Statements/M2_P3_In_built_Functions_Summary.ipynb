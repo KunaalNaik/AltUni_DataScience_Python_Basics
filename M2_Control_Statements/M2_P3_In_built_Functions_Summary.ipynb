{
 "cells": [
  {
   "cell_type": "markdown",
   "id": "a1bd6d25-fafd-4c6e-b51e-9548c0258f4e",
   "metadata": {},
   "source": [
    "# Introduction to Python\n",
    "---\n",
    "## In-built Functions - Summary"
   ]
  },
  {
   "cell_type": "code",
   "execution_count": 1,
   "id": "2cda93b3-c4a0-4a1a-a084-6d7e8765a3eb",
   "metadata": {},
   "outputs": [
    {
     "data": {
      "text/plain": [
       "[20, 22, 24, 26, 28, 30, 32, 34, 36, 38]"
      ]
     },
     "execution_count": 1,
     "metadata": {},
     "output_type": "execute_result"
    }
   ],
   "source": [
    "# Use a Range output and convert to list\n",
    "age = list(range(20,40,2))\n",
    "age"
   ]
  },
  {
   "cell_type": "markdown",
   "id": "e29f5698-31de-40ae-b039-e8a91ff8e6b4",
   "metadata": {},
   "source": [
    "### sum"
   ]
  },
  {
   "cell_type": "code",
   "execution_count": 2,
   "id": "cdeea539-3c2f-4840-b60a-f45bdfab81d2",
   "metadata": {},
   "outputs": [
    {
     "data": {
      "text/plain": [
       "290"
      ]
     },
     "execution_count": 2,
     "metadata": {},
     "output_type": "execute_result"
    }
   ],
   "source": [
    "sum(age)"
   ]
  },
  {
   "cell_type": "markdown",
   "id": "c589cbc2-b3cc-48b5-943c-354491e9c5c5",
   "metadata": {},
   "source": [
    "### max"
   ]
  },
  {
   "cell_type": "code",
   "execution_count": 3,
   "id": "94c7545e-9631-4575-9d08-c731ac981de3",
   "metadata": {},
   "outputs": [
    {
     "data": {
      "text/plain": [
       "38"
      ]
     },
     "execution_count": 3,
     "metadata": {},
     "output_type": "execute_result"
    }
   ],
   "source": [
    "max(age)"
   ]
  },
  {
   "cell_type": "markdown",
   "id": "e5658b9a-a3fd-4af9-8f40-399cd2acb712",
   "metadata": {},
   "source": [
    "### min"
   ]
  },
  {
   "cell_type": "code",
   "execution_count": 4,
   "id": "6508b570-c778-413c-a50a-a0f8012593be",
   "metadata": {},
   "outputs": [
    {
     "data": {
      "text/plain": [
       "20"
      ]
     },
     "execution_count": 4,
     "metadata": {},
     "output_type": "execute_result"
    }
   ],
   "source": [
    "min(age)"
   ]
  },
  {
   "cell_type": "markdown",
   "id": "0866d319-099d-4a2d-a3e4-bb7a3023c2db",
   "metadata": {},
   "source": [
    "### mean"
   ]
  },
  {
   "cell_type": "code",
   "execution_count": 5,
   "id": "12289771-6a5a-435e-8796-bf7459902f83",
   "metadata": {},
   "outputs": [
    {
     "ename": "NameError",
     "evalue": "name 'mean' is not defined",
     "output_type": "error",
     "traceback": [
      "\u001b[1;31m---------------------------------------------------------------------------\u001b[0m",
      "\u001b[1;31mNameError\u001b[0m                                 Traceback (most recent call last)",
      "\u001b[1;32m<ipython-input-5-67ec76ff806b>\u001b[0m in \u001b[0;36m<module>\u001b[1;34m\u001b[0m\n\u001b[1;32m----> 1\u001b[1;33m \u001b[0mmean\u001b[0m\u001b[1;33m(\u001b[0m\u001b[0mage\u001b[0m\u001b[1;33m)\u001b[0m\u001b[1;33m\u001b[0m\u001b[1;33m\u001b[0m\u001b[0m\n\u001b[0m",
      "\u001b[1;31mNameError\u001b[0m: name 'mean' is not defined"
     ]
    }
   ],
   "source": [
    "mean(age)"
   ]
  },
  {
   "cell_type": "code",
   "execution_count": null,
   "id": "23a5d6d1-6767-431d-bb66-a742afd0698b",
   "metadata": {},
   "outputs": [],
   "source": [
    "# Sometimes not built in!"
   ]
  },
  {
   "cell_type": "markdown",
   "id": "b818480e-a52e-4bf3-8348-f963a3fdf346",
   "metadata": {},
   "source": [
    "## statistics package\n",
    "- But we will use numpy or pandas"
   ]
  },
  {
   "cell_type": "code",
   "execution_count": 6,
   "id": "b812e62f-f9bd-4a7e-bd4a-8a73350212e8",
   "metadata": {},
   "outputs": [],
   "source": [
    "# import mean from another package\n",
    "from statistics import mean, median, mode"
   ]
  },
  {
   "cell_type": "code",
   "execution_count": 7,
   "id": "2da79577-5689-4432-8c2f-4bcf3af4a703",
   "metadata": {},
   "outputs": [
    {
     "data": {
      "text/plain": [
       "29"
      ]
     },
     "execution_count": 7,
     "metadata": {},
     "output_type": "execute_result"
    }
   ],
   "source": [
    "mean(age)"
   ]
  },
  {
   "cell_type": "code",
   "execution_count": 8,
   "id": "5ab6d2e8-655c-4817-9640-5b1cb0519ae5",
   "metadata": {},
   "outputs": [
    {
     "data": {
      "text/plain": [
       "29.0"
      ]
     },
     "execution_count": 8,
     "metadata": {},
     "output_type": "execute_result"
    }
   ],
   "source": [
    "median(age)"
   ]
  },
  {
   "cell_type": "code",
   "execution_count": 9,
   "id": "219a125d-5814-4cf8-bc73-fc40aee8177c",
   "metadata": {},
   "outputs": [
    {
     "data": {
      "text/plain": [
       "20"
      ]
     },
     "execution_count": 9,
     "metadata": {},
     "output_type": "execute_result"
    }
   ],
   "source": [
    "mode(age)"
   ]
  },
  {
   "cell_type": "markdown",
   "id": "e6c835d7-9747-4d1b-9a62-3791e2fe5857",
   "metadata": {},
   "source": [
    "# END"
   ]
  }
 ],
 "metadata": {
  "kernelspec": {
   "display_name": "Python 3",
   "language": "python",
   "name": "python3"
  },
  "language_info": {
   "codemirror_mode": {
    "name": "ipython",
    "version": 3
   },
   "file_extension": ".py",
   "mimetype": "text/x-python",
   "name": "python",
   "nbconvert_exporter": "python",
   "pygments_lexer": "ipython3",
   "version": "3.8.8"
  },
  "toc-autonumbering": true
 },
 "nbformat": 4,
 "nbformat_minor": 5
}
