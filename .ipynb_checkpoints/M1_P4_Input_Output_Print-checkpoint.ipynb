{
 "cells": [
  {
   "cell_type": "markdown",
   "id": "a1bd6d25-fafd-4c6e-b51e-9548c0258f4e",
   "metadata": {},
   "source": [
    "# Introduction to Python\n",
    "---\n",
    "## Input/Output/Print"
   ]
  },
  {
   "cell_type": "markdown",
   "id": "32905b27-99c4-43a9-92be-a9ab0249df6a",
   "metadata": {},
   "source": [
    "## Print"
   ]
  },
  {
   "cell_type": "markdown",
   "id": "f5d60282-8d69-4027-a8be-6a2fe531e24a",
   "metadata": {},
   "source": [
    "### Better Method to Print String and Numbers"
   ]
  },
  {
   "cell_type": "code",
   "execution_count": null,
   "id": "aa50e2f4-4cd9-4a24-b9c9-740168ac1014",
   "metadata": {},
   "outputs": [],
   "source": [
    "sentence = 'Number of modules completed : '\n",
    "modules = 5"
   ]
  },
  {
   "cell_type": "code",
   "execution_count": null,
   "id": "c58129d1-6a0f-46cd-8d87-52ce47d39c37",
   "metadata": {},
   "outputs": [],
   "source": [
    "print('Number of modules completed : {0}'.format(modules))"
   ]
  },
  {
   "cell_type": "code",
   "execution_count": null,
   "id": "a2f633be-f381-44ab-9f34-7bfbb7dcfde1",
   "metadata": {},
   "outputs": [],
   "source": [
    "print('Number of modules completed : ',modules)"
   ]
  },
  {
   "cell_type": "code",
   "execution_count": null,
   "id": "870ddbde-04f4-46fb-a5dd-ab19f5ba4f28",
   "metadata": {},
   "outputs": [],
   "source": [
    "print(sentence, modules)\n",
    "\n",
    "# notice it does not give an error as we are concatenating"
   ]
  },
  {
   "cell_type": "markdown",
   "id": "724e59c6-6457-47a5-9ebb-74a3cc989f79",
   "metadata": {},
   "source": [
    "#### With 2 Variables"
   ]
  },
  {
   "cell_type": "code",
   "execution_count": null,
   "id": "534b243d-1180-4de9-9562-2fd3707547d2",
   "metadata": {},
   "outputs": [],
   "source": [
    "modules = 4\n",
    "days = 5"
   ]
  },
  {
   "cell_type": "code",
   "execution_count": null,
   "id": "6b1f9580-6069-4a5d-838e-677bc868f239",
   "metadata": {},
   "outputs": [],
   "source": [
    "print('I completed {0} modules in {1} days!'.format(modules, days))"
   ]
  },
  {
   "cell_type": "markdown",
   "id": "7b10f802-c64c-4367-8658-b19c02266509",
   "metadata": {},
   "source": [
    "## Input"
   ]
  },
  {
   "cell_type": "code",
   "execution_count": null,
   "id": "c28ee838-f90e-4e38-874c-588eb85bf4b7",
   "metadata": {},
   "outputs": [],
   "source": [
    "sentence = 'Number of modules completed : '"
   ]
  },
  {
   "cell_type": "code",
   "execution_count": null,
   "id": "4eee901b-e3ef-48a9-afa4-efbe575ecc40",
   "metadata": {},
   "outputs": [],
   "source": [
    "modules = input('Enter number of Modules completed')"
   ]
  },
  {
   "cell_type": "markdown",
   "id": "e29f5698-31de-40ae-b039-e8a91ff8e6b4",
   "metadata": {},
   "source": [
    "## Output"
   ]
  },
  {
   "cell_type": "code",
   "execution_count": null,
   "id": "cdeea539-3c2f-4840-b60a-f45bdfab81d2",
   "metadata": {},
   "outputs": [],
   "source": [
    "print('Number of modules completed : {0}'.format(modules))"
   ]
  },
  {
   "cell_type": "markdown",
   "id": "bdf9e841-33c5-449a-a2d9-7ad5b179dda9",
   "metadata": {},
   "source": [
    "# Next : QUIZ TIME "
   ]
  },
  {
   "cell_type": "code",
   "execution_count": null,
   "id": "71c82398-db22-4796-9108-f02942d5792b",
   "metadata": {},
   "outputs": [],
   "source": []
  }
 ],
 "metadata": {
  "kernelspec": {
   "display_name": "Python 3",
   "language": "python",
   "name": "python3"
  },
  "language_info": {
   "codemirror_mode": {
    "name": "ipython",
    "version": 3
   },
   "file_extension": ".py",
   "mimetype": "text/x-python",
   "name": "python",
   "nbconvert_exporter": "python",
   "pygments_lexer": "ipython3",
   "version": "3.8.8"
  },
  "toc-autonumbering": true
 },
 "nbformat": 4,
 "nbformat_minor": 5
}
