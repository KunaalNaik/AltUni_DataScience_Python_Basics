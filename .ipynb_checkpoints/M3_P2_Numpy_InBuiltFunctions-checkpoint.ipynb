{
 "cells": [
  {
   "cell_type": "markdown",
   "id": "a1bd6d25-fafd-4c6e-b51e-9548c0258f4e",
   "metadata": {},
   "source": [
    "# Introduction to Python\n",
    "---\n",
    "## Numpy\n",
    "NumPy (or Numpy) is a Linear Algebra Library for Python, the reason it is so important for Data Science with Python is that almost all of the libraries in the PyData Ecosystem rely on NumPy as one of their main building blocks.\n",
    "\n",
    "Numpy is also incredibly fast, as it has bindings to C libraries. For more info on why you would want to use Arrays instead of lists.\n",
    "\n",
    "- Numpy Array \n",
    "- Matrix\n",
    "- Slice/Indexing Numpy Array"
   ]
  },
  {
   "cell_type": "markdown",
   "id": "7b10f802-c64c-4367-8658-b19c02266509",
   "metadata": {},
   "source": [
    "### Numpy Array"
   ]
  },
  {
   "cell_type": "code",
   "execution_count": 2,
   "id": "33619a0b-f3f4-4f86-b126-11b9cc135caa",
   "metadata": {},
   "outputs": [],
   "source": [
    "import numpy as np"
   ]
  },
  {
   "cell_type": "code",
   "execution_count": 12,
   "id": "a6040cea-3342-4b06-93f2-85b483c27df7",
   "metadata": {},
   "outputs": [
    {
     "name": "stdout",
     "output_type": "stream",
     "text": [
      "[23, 24, 26, 18, 21]\n",
      "['Raj', 'Ram', 'Rahul', 'Prashant', 'Tanvi']\n"
     ]
    }
   ],
   "source": [
    "average_age = 21\n",
    "\n",
    "age = [23,24,26,18,21]\n",
    "names = ['Raj','Ram','Rahul','Prashant','Tanvi']\n",
    "\n",
    "print(age)\n",
    "print(names)"
   ]
  },
  {
   "cell_type": "markdown",
   "id": "a7ff356e-bfff-4e64-a761-eca5fae78713",
   "metadata": {},
   "source": [
    "#### List to Array"
   ]
  },
  {
   "cell_type": "code",
   "execution_count": 22,
   "id": "1229f945-7400-465b-9b8b-b367bd98baed",
   "metadata": {},
   "outputs": [
    {
     "data": {
      "text/plain": [
       "array([23, 24, 26, 18, 21])"
      ]
     },
     "execution_count": 22,
     "metadata": {},
     "output_type": "execute_result"
    }
   ],
   "source": [
    "age = np.array(age)\n",
    "age"
   ]
  },
  {
   "cell_type": "code",
   "execution_count": 23,
   "id": "4eee901b-e3ef-48a9-afa4-efbe575ecc40",
   "metadata": {},
   "outputs": [
    {
     "data": {
      "text/plain": [
       "array(['Raj', 'Ram', 'Rahul', 'Prashant', 'Tanvi'], dtype='<U8')"
      ]
     },
     "execution_count": 23,
     "metadata": {},
     "output_type": "execute_result"
    }
   ],
   "source": [
    "names = np.array(names)\n",
    "names"
   ]
  },
  {
   "cell_type": "markdown",
   "id": "e29f5698-31de-40ae-b039-e8a91ff8e6b4",
   "metadata": {},
   "source": [
    "### Matrix"
   ]
  },
  {
   "cell_type": "code",
   "execution_count": 15,
   "id": "22f22996-0b7d-4bcd-8f7e-f4b7112983fa",
   "metadata": {},
   "outputs": [
    {
     "data": {
      "text/plain": [
       "[[1, 2, 3], [4, 5, 6], [7, 8, 9]]"
      ]
     },
     "execution_count": 15,
     "metadata": {},
     "output_type": "execute_result"
    }
   ],
   "source": [
    "my_matrix = [[1,2,3],[4,5,6],[7,8,9]]\n",
    "my_matrix"
   ]
  },
  {
   "cell_type": "code",
   "execution_count": 17,
   "id": "1dcc94e2-90f8-4fe2-8461-69061db33ca0",
   "metadata": {},
   "outputs": [
    {
     "data": {
      "text/plain": [
       "array([[1, 2, 3],\n",
       "       [4, 5, 6],\n",
       "       [7, 8, 9]])"
      ]
     },
     "execution_count": 17,
     "metadata": {},
     "output_type": "execute_result"
    }
   ],
   "source": [
    "np_matrix = np.array(my_matrix)\n",
    "np_matrix"
   ]
  },
  {
   "cell_type": "markdown",
   "id": "32905b27-99c4-43a9-92be-a9ab0249df6a",
   "metadata": {},
   "source": [
    "### Slicing/Indexing"
   ]
  },
  {
   "cell_type": "code",
   "execution_count": 24,
   "id": "a7fcccf4-47e0-48ea-ae4c-d999f50a24b8",
   "metadata": {},
   "outputs": [
    {
     "data": {
      "text/plain": [
       "array([23, 24, 26, 18, 21])"
      ]
     },
     "execution_count": 24,
     "metadata": {},
     "output_type": "execute_result"
    }
   ],
   "source": [
    "age"
   ]
  },
  {
   "cell_type": "code",
   "execution_count": 25,
   "id": "442968a0-c417-400c-8837-f1731a4d6a09",
   "metadata": {},
   "outputs": [
    {
     "data": {
      "text/plain": [
       "23"
      ]
     },
     "execution_count": 25,
     "metadata": {},
     "output_type": "execute_result"
    }
   ],
   "source": [
    "age[0]"
   ]
  },
  {
   "cell_type": "code",
   "execution_count": 37,
   "id": "41a998a1-ceb6-4161-b553-9d5fc3174415",
   "metadata": {},
   "outputs": [
    {
     "data": {
      "text/plain": [
       "array([21, 21, 21])"
      ]
     },
     "execution_count": 37,
     "metadata": {},
     "output_type": "execute_result"
    }
   ],
   "source": [
    "age[1:4]"
   ]
  },
  {
   "cell_type": "markdown",
   "id": "58aa7ad0-34c5-4f9a-b187-6eb6897a4510",
   "metadata": {},
   "source": [
    "#### Broadcasting\n",
    "- Numpy arrays differ from a normal Python list because of their ability to broadcast:"
   ]
  },
  {
   "cell_type": "code",
   "execution_count": 42,
   "id": "fb4faa3a-eaef-4e9b-8f53-3d8d2b5f54d0",
   "metadata": {},
   "outputs": [
    {
     "data": {
      "text/plain": [
       "array([23, 24, 26, 18, 21])"
      ]
     },
     "execution_count": 42,
     "metadata": {},
     "output_type": "execute_result"
    }
   ],
   "source": [
    "age = np.array([23,24,26,18,21])\n",
    "age"
   ]
  },
  {
   "cell_type": "code",
   "execution_count": 43,
   "id": "6788637b-4a75-4b4f-b096-5d8d2ad030de",
   "metadata": {},
   "outputs": [
    {
     "data": {
      "text/plain": [
       "array([18, 21, 23, 24, 26])"
      ]
     },
     "execution_count": 43,
     "metadata": {},
     "output_type": "execute_result"
    }
   ],
   "source": [
    "# Can be sorted too\n",
    "age.sort()\n",
    "age"
   ]
  },
  {
   "cell_type": "code",
   "execution_count": 44,
   "id": "8ad0ee18-c9f5-4bda-80f1-7c8b33439cf0",
   "metadata": {},
   "outputs": [
    {
     "data": {
      "text/plain": [
       "array([100, 100,  23,  24,  26])"
      ]
     },
     "execution_count": 44,
     "metadata": {},
     "output_type": "execute_result"
    }
   ],
   "source": [
    "age[0:2] = 100\n",
    "age"
   ]
  },
  {
   "cell_type": "code",
   "execution_count": 45,
   "id": "4b542188-16ed-4b0a-8763-05e7f5fb2f02",
   "metadata": {},
   "outputs": [
    {
     "ename": "TypeError",
     "evalue": "can only assign an iterable",
     "output_type": "error",
     "traceback": [
      "\u001b[1;31m---------------------------------------------------------------------------\u001b[0m",
      "\u001b[1;31mTypeError\u001b[0m                                 Traceback (most recent call last)",
      "\u001b[1;32m<ipython-input-45-075b2ea74ad4>\u001b[0m in \u001b[0;36m<module>\u001b[1;34m\u001b[0m\n\u001b[0;32m      1\u001b[0m \u001b[1;31m# If done on list - error\u001b[0m\u001b[1;33m\u001b[0m\u001b[1;33m\u001b[0m\u001b[1;33m\u001b[0m\u001b[0m\n\u001b[0;32m      2\u001b[0m \u001b[0mage_list\u001b[0m \u001b[1;33m=\u001b[0m \u001b[1;33m[\u001b[0m\u001b[1;36m23\u001b[0m\u001b[1;33m,\u001b[0m\u001b[1;36m24\u001b[0m\u001b[1;33m,\u001b[0m\u001b[1;36m26\u001b[0m\u001b[1;33m,\u001b[0m\u001b[1;36m18\u001b[0m\u001b[1;33m,\u001b[0m\u001b[1;36m21\u001b[0m\u001b[1;33m]\u001b[0m\u001b[1;33m\u001b[0m\u001b[1;33m\u001b[0m\u001b[0m\n\u001b[1;32m----> 3\u001b[1;33m \u001b[0mage_list\u001b[0m\u001b[1;33m[\u001b[0m\u001b[1;36m0\u001b[0m\u001b[1;33m:\u001b[0m\u001b[1;36m2\u001b[0m\u001b[1;33m]\u001b[0m \u001b[1;33m=\u001b[0m \u001b[1;36m100\u001b[0m\u001b[1;33m\u001b[0m\u001b[1;33m\u001b[0m\u001b[0m\n\u001b[0m",
      "\u001b[1;31mTypeError\u001b[0m: can only assign an iterable"
     ]
    }
   ],
   "source": [
    "# If done on list - error\n",
    "age_list = [23,24,26,18,21]\n",
    "age_list[0:2] = 100"
   ]
  },
  {
   "cell_type": "markdown",
   "id": "957b9aec-038f-490e-a921-fd14f74c14c1",
   "metadata": {},
   "source": [
    "#### Often used to replace missing values or data cleaning"
   ]
  },
  {
   "cell_type": "code",
   "execution_count": 46,
   "id": "5a564719-ccd8-4722-bb21-7f7b5a4dda42",
   "metadata": {},
   "outputs": [
    {
     "data": {
      "text/plain": [
       "21"
      ]
     },
     "execution_count": 46,
     "metadata": {},
     "output_type": "execute_result"
    }
   ],
   "source": [
    "average_age"
   ]
  },
  {
   "cell_type": "code",
   "execution_count": 47,
   "id": "4456a17d-c229-403e-ae48-f9b9fc5f638c",
   "metadata": {},
   "outputs": [
    {
     "data": {
      "text/plain": [
       "array([21, 21, 23, 24, 26])"
      ]
     },
     "execution_count": 47,
     "metadata": {},
     "output_type": "execute_result"
    }
   ],
   "source": [
    "age[0:2] = average_age\n",
    "age"
   ]
  }
 ],
 "metadata": {
  "kernelspec": {
   "display_name": "Python 3",
   "language": "python",
   "name": "python3"
  },
  "language_info": {
   "codemirror_mode": {
    "name": "ipython",
    "version": 3
   },
   "file_extension": ".py",
   "mimetype": "text/x-python",
   "name": "python",
   "nbconvert_exporter": "python",
   "pygments_lexer": "ipython3",
   "version": "3.8.8"
  },
  "toc-autonumbering": true
 },
 "nbformat": 4,
 "nbformat_minor": 5
}
