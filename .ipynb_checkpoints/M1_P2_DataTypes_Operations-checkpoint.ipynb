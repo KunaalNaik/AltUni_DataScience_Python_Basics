{
 "cells": [
  {
   "cell_type": "markdown",
   "id": "a1bd6d25-fafd-4c6e-b51e-9548c0258f4e",
   "metadata": {},
   "source": [
    "# Introduction to Python\n",
    "---\n",
    "## Data Types Operations\n",
    "- Integer/Float ( Add, Substract, Multiply, Divide, Power )\n",
    "- String ( Concatenate, Replicate, Slice, Manipulation )\n",
    "- String and Numeric Operations"
   ]
  },
  {
   "cell_type": "markdown",
   "id": "e29f5698-31de-40ae-b039-e8a91ff8e6b4",
   "metadata": {},
   "source": [
    "### Numerical - Operations\n",
    "- Add (+)\n",
    "- Subtract (-)\n",
    "- Multiply (*)\n",
    "- Divide (/)\n",
    "- Power (**)"
   ]
  },
  {
   "cell_type": "markdown",
   "id": "7b10f802-c64c-4367-8658-b19c02266509",
   "metadata": {},
   "source": [
    "#### Consider 2 Variables holding 2 Integers "
   ]
  },
  {
   "cell_type": "code",
   "execution_count": 76,
   "id": "4eee901b-e3ef-48a9-afa4-efbe575ecc40",
   "metadata": {},
   "outputs": [
    {
     "data": {
      "text/plain": [
       "10"
      ]
     },
     "execution_count": 76,
     "metadata": {},
     "output_type": "execute_result"
    }
   ],
   "source": [
    "# number 1\n",
    "x = 10\n",
    "x"
   ]
  },
  {
   "cell_type": "code",
   "execution_count": 77,
   "id": "7398b506-780b-43d2-b1dd-4b3cfce1913f",
   "metadata": {},
   "outputs": [
    {
     "data": {
      "text/plain": [
       "5"
      ]
     },
     "execution_count": 77,
     "metadata": {},
     "output_type": "execute_result"
    }
   ],
   "source": [
    "# number 2\n",
    "y = 5\n",
    "y"
   ]
  },
  {
   "cell_type": "markdown",
   "id": "4217ddfc-8fc3-41ac-a27f-a5aae9bffd51",
   "metadata": {},
   "source": [
    "#### Calculations"
   ]
  },
  {
   "cell_type": "code",
   "execution_count": 78,
   "id": "fb23f1c8-7fd0-4844-ab8b-2c156407d066",
   "metadata": {},
   "outputs": [
    {
     "name": "stdout",
     "output_type": "stream",
     "text": [
      "15\n"
     ]
    }
   ],
   "source": [
    "#### Addition\n",
    "print(x + y)"
   ]
  },
  {
   "cell_type": "code",
   "execution_count": 79,
   "id": "cdeea539-3c2f-4840-b60a-f45bdfab81d2",
   "metadata": {},
   "outputs": [
    {
     "name": "stdout",
     "output_type": "stream",
     "text": [
      "5\n"
     ]
    }
   ],
   "source": [
    "#### Subtraction\n",
    "print(x - y)"
   ]
  },
  {
   "cell_type": "code",
   "execution_count": 80,
   "id": "12227a11-0798-46a3-8056-91cf1ba84f25",
   "metadata": {},
   "outputs": [
    {
     "name": "stdout",
     "output_type": "stream",
     "text": [
      "50\n"
     ]
    }
   ],
   "source": [
    "#### Multiplication\n",
    "print(x * y)"
   ]
  },
  {
   "cell_type": "code",
   "execution_count": 81,
   "id": "f7110ab2-27c8-4b9f-aac1-f10819c93612",
   "metadata": {},
   "outputs": [
    {
     "name": "stdout",
     "output_type": "stream",
     "text": [
      "2.0\n"
     ]
    }
   ],
   "source": [
    "#### Division\n",
    "print(x / y)"
   ]
  },
  {
   "cell_type": "code",
   "execution_count": 82,
   "id": "bc39e009-c840-42fd-b544-a4d5f1a09df3",
   "metadata": {},
   "outputs": [
    {
     "name": "stdout",
     "output_type": "stream",
     "text": [
      "100000\n"
     ]
    }
   ],
   "source": [
    "#### Power\n",
    "print(x ** y)"
   ]
  },
  {
   "cell_type": "markdown",
   "id": "32905b27-99c4-43a9-92be-a9ab0249df6a",
   "metadata": {},
   "source": [
    "### String Operations"
   ]
  },
  {
   "cell_type": "markdown",
   "id": "b51aa1c7-1327-41d3-aee6-948c64c0c9a6",
   "metadata": {},
   "source": [
    "#### Consider 2 Strings"
   ]
  },
  {
   "cell_type": "code",
   "execution_count": 83,
   "id": "b837dfc0-194b-4131-90eb-19e74c97ff60",
   "metadata": {},
   "outputs": [],
   "source": [
    "word1 = 'Alt'\n",
    "word2 = 'Uni'"
   ]
  },
  {
   "cell_type": "markdown",
   "id": "6438bb0e-fe28-43fe-b771-2799a8a4ec61",
   "metadata": {},
   "source": [
    "#### String Handling"
   ]
  },
  {
   "cell_type": "code",
   "execution_count": 88,
   "id": "a7fcccf4-47e0-48ea-ae4c-d999f50a24b8",
   "metadata": {},
   "outputs": [
    {
     "name": "stdout",
     "output_type": "stream",
     "text": [
      "AltUni\n"
     ]
    }
   ],
   "source": [
    "# Conacatenate (Add)\n",
    "brand = word1 + word2\n",
    "\n",
    "print(brand)"
   ]
  },
  {
   "cell_type": "code",
   "execution_count": 85,
   "id": "b915fac4-92e1-4c0d-b009-9581ab825157",
   "metadata": {},
   "outputs": [
    {
     "name": "stdout",
     "output_type": "stream",
     "text": [
      "Alt - Uni\n"
     ]
    }
   ],
   "source": [
    "# Concatenate with additional string\n",
    "print(word1 + ' - ' + word2)"
   ]
  },
  {
   "cell_type": "code",
   "execution_count": 86,
   "id": "d90e9831-3eff-4e4d-bdd0-6d6af2dfd580",
   "metadata": {},
   "outputs": [
    {
     "name": "stdout",
     "output_type": "stream",
     "text": [
      "AltAltAlt\n"
     ]
    }
   ],
   "source": [
    "# Replicate\n",
    "print(word1 * 3)"
   ]
  },
  {
   "cell_type": "code",
   "execution_count": 92,
   "id": "28f8b5c8-184f-4e82-9089-db9efb78b522",
   "metadata": {},
   "outputs": [
    {
     "name": "stdout",
     "output_type": "stream",
     "text": [
      "['A', 'l', 't', 'U', 'n', 'i']\n"
     ]
    }
   ],
   "source": [
    "# User Defined Function used to convert string to list\n",
    "def convert_str_to_list(string):\n",
    "    list1=[]\n",
    "    list1[:0]=string\n",
    "    return list1\n",
    "\n",
    "# use user defined function \"convert_str_to_list\"\n",
    "brand_list = convert_str_to_list(brand)\n",
    "\n",
    "print(brand_list)"
   ]
  },
  {
   "cell_type": "code",
   "execution_count": 96,
   "id": "3c5a5f3c-b544-4c3e-a6af-002f9139938e",
   "metadata": {},
   "outputs": [
    {
     "name": "stdout",
     "output_type": "stream",
     "text": [
      "[0, 1, 2, 3, 4, 5]\n"
     ]
    }
   ],
   "source": [
    "# Python Index \n",
    "brand_index = [0,1,2,3,4,5]\n",
    "\n",
    "print(brand_index)"
   ]
  },
  {
   "cell_type": "code",
   "execution_count": 97,
   "id": "9830cb35-4739-4d22-a7b5-241855a5ee24",
   "metadata": {},
   "outputs": [
    {
     "name": "stdout",
     "output_type": "stream",
     "text": [
      "['A', 'l', 't', 'U', 'n', 'i']\n",
      "[0, 1, 2, 3, 4, 5]\n"
     ]
    }
   ],
   "source": [
    "# Print both together\n",
    "print(brand_list)\n",
    "print(brand_index)"
   ]
  },
  {
   "cell_type": "code",
   "execution_count": 95,
   "id": "071c54e1-0f8a-4abf-89a1-a89bc9e34f28",
   "metadata": {},
   "outputs": [
    {
     "name": "stdout",
     "output_type": "stream",
     "text": [
      "t\n"
     ]
    }
   ],
   "source": [
    "# Slice to get a single word\n",
    "print(brand[0])"
   ]
  },
  {
   "cell_type": "code",
   "execution_count": 98,
   "id": "31cb80a6-4da8-4a1d-981a-b3bf43dd7b92",
   "metadata": {},
   "outputs": [
    {
     "name": "stdout",
     "output_type": "stream",
     "text": [
      "AU\n"
     ]
    }
   ],
   "source": [
    "# Slice to get a 2 words and concatenate\n",
    "print(brand[0] + brand[3])"
   ]
  },
  {
   "cell_type": "code",
   "execution_count": 100,
   "id": "e0fe2ea3-3964-4ad5-b166-310d55135e15",
   "metadata": {},
   "outputs": [
    {
     "name": "stdout",
     "output_type": "stream",
     "text": [
      "Lower Case\n",
      "altuni\n",
      "-----\n",
      "Upper Case\n",
      "ALTUNI\n"
     ]
    }
   ],
   "source": [
    "# Convert to lower case or upper\n",
    "\n",
    "print('Lower Case')\n",
    "print(brand.lower())\n",
    "\n",
    "print('-----')\n",
    "print('Upper Case')\n",
    "print(brand.upper())"
   ]
  },
  {
   "cell_type": "markdown",
   "id": "4dda676b-2f19-46a7-9542-b5c40cafebef",
   "metadata": {},
   "source": [
    "#### String"
   ]
  },
  {
   "cell_type": "code",
   "execution_count": 55,
   "id": "6db0fbd8-4585-43b8-8793-e9f273c35c59",
   "metadata": {},
   "outputs": [
    {
     "data": {
      "text/plain": [
       "'AltUni'"
      ]
     },
     "execution_count": 55,
     "metadata": {},
     "output_type": "execute_result"
    }
   ],
   "source": [
    "# using quotes denotes String\n",
    "# use can use single or double quotes \n",
    "# python prefers single quotes\n",
    "brand = 'AltUni'\n",
    "brand"
   ]
  },
  {
   "cell_type": "markdown",
   "id": "fa21d086-946f-46f5-8be3-9f1c1fa55862",
   "metadata": {},
   "source": [
    "### String and Number Operations"
   ]
  },
  {
   "cell_type": "markdown",
   "id": "04362216-0564-4fc4-be26-432af1ee8258",
   "metadata": {},
   "source": [
    "#### Consider One number and One String"
   ]
  },
  {
   "cell_type": "code",
   "execution_count": 101,
   "id": "25f5553f-8b41-44d1-a3db-8397c598c822",
   "metadata": {},
   "outputs": [],
   "source": [
    "sentence = 'Number of modules completed : '\n",
    "modules = 5"
   ]
  },
  {
   "cell_type": "code",
   "execution_count": 102,
   "id": "c9595937-ccbb-43ef-a006-f54fd88ab602",
   "metadata": {},
   "outputs": [
    {
     "ename": "TypeError",
     "evalue": "can only concatenate str (not \"int\") to str",
     "output_type": "error",
     "traceback": [
      "\u001b[1;31m---------------------------------------------------------------------------\u001b[0m",
      "\u001b[1;31mTypeError\u001b[0m                                 Traceback (most recent call last)",
      "\u001b[1;32m<ipython-input-102-98bb13c04e86>\u001b[0m in \u001b[0;36m<module>\u001b[1;34m\u001b[0m\n\u001b[0;32m      1\u001b[0m \u001b[1;31m# Addition or Concatenate?\u001b[0m\u001b[1;33m\u001b[0m\u001b[1;33m\u001b[0m\u001b[1;33m\u001b[0m\u001b[0m\n\u001b[0;32m      2\u001b[0m \u001b[1;33m\u001b[0m\u001b[0m\n\u001b[1;32m----> 3\u001b[1;33m \u001b[0mprint\u001b[0m\u001b[1;33m(\u001b[0m\u001b[0msentence\u001b[0m \u001b[1;33m+\u001b[0m \u001b[0mmodules\u001b[0m\u001b[1;33m)\u001b[0m\u001b[1;33m\u001b[0m\u001b[1;33m\u001b[0m\u001b[0m\n\u001b[0m",
      "\u001b[1;31mTypeError\u001b[0m: can only concatenate str (not \"int\") to str"
     ]
    }
   ],
   "source": [
    "# Addition or Concatenate?\n",
    "\n",
    "print(sentence + modules)"
   ]
  },
  {
   "cell_type": "code",
   "execution_count": 103,
   "id": "436e87df-7ec0-429f-be7a-ffd7595686bc",
   "metadata": {},
   "outputs": [
    {
     "ename": "TypeError",
     "evalue": "unsupported operand type(s) for -: 'str' and 'int'",
     "output_type": "error",
     "traceback": [
      "\u001b[1;31m---------------------------------------------------------------------------\u001b[0m",
      "\u001b[1;31mTypeError\u001b[0m                                 Traceback (most recent call last)",
      "\u001b[1;32m<ipython-input-103-faeb4c33627a>\u001b[0m in \u001b[0;36m<module>\u001b[1;34m\u001b[0m\n\u001b[0;32m      1\u001b[0m \u001b[1;31m# Subtraction or Remove Characters?\u001b[0m\u001b[1;33m\u001b[0m\u001b[1;33m\u001b[0m\u001b[1;33m\u001b[0m\u001b[0m\n\u001b[0;32m      2\u001b[0m \u001b[1;33m\u001b[0m\u001b[0m\n\u001b[1;32m----> 3\u001b[1;33m \u001b[0mprint\u001b[0m\u001b[1;33m(\u001b[0m\u001b[0msentence\u001b[0m \u001b[1;33m-\u001b[0m \u001b[0mmodules\u001b[0m\u001b[1;33m)\u001b[0m\u001b[1;33m\u001b[0m\u001b[1;33m\u001b[0m\u001b[0m\n\u001b[0m",
      "\u001b[1;31mTypeError\u001b[0m: unsupported operand type(s) for -: 'str' and 'int'"
     ]
    }
   ],
   "source": [
    "# Subtraction or Remove Characters?\n",
    "\n",
    "print(sentence - modules)"
   ]
  },
  {
   "cell_type": "code",
   "execution_count": 104,
   "id": "1445b568-bddc-4b7a-810f-bd92bbc6c537",
   "metadata": {},
   "outputs": [
    {
     "name": "stdout",
     "output_type": "stream",
     "text": [
      "Number of modules completed : Number of modules completed : Number of modules completed : Number of modules completed : Number of modules completed : \n"
     ]
    }
   ],
   "source": [
    "# Multiply or Replicate String? \n",
    "\n",
    "print(sentence * modules)"
   ]
  },
  {
   "cell_type": "code",
   "execution_count": 105,
   "id": "1758bf24-dde9-49d9-ba2b-7b38f535eb1f",
   "metadata": {},
   "outputs": [
    {
     "ename": "TypeError",
     "evalue": "unsupported operand type(s) for /: 'str' and 'int'",
     "output_type": "error",
     "traceback": [
      "\u001b[1;31m---------------------------------------------------------------------------\u001b[0m",
      "\u001b[1;31mTypeError\u001b[0m                                 Traceback (most recent call last)",
      "\u001b[1;32m<ipython-input-105-53b203694497>\u001b[0m in \u001b[0;36m<module>\u001b[1;34m\u001b[0m\n\u001b[0;32m      1\u001b[0m \u001b[1;31m# Divide or what else ?\u001b[0m\u001b[1;33m\u001b[0m\u001b[1;33m\u001b[0m\u001b[1;33m\u001b[0m\u001b[0m\n\u001b[0;32m      2\u001b[0m \u001b[1;33m\u001b[0m\u001b[0m\n\u001b[1;32m----> 3\u001b[1;33m \u001b[0mprint\u001b[0m\u001b[1;33m(\u001b[0m\u001b[0msentence\u001b[0m \u001b[1;33m/\u001b[0m \u001b[0mmodules\u001b[0m\u001b[1;33m)\u001b[0m\u001b[1;33m\u001b[0m\u001b[1;33m\u001b[0m\u001b[0m\n\u001b[0m",
      "\u001b[1;31mTypeError\u001b[0m: unsupported operand type(s) for /: 'str' and 'int'"
     ]
    }
   ],
   "source": [
    "# Divide or what else ? \n",
    "\n",
    "print(sentence / modules)"
   ]
  },
  {
   "cell_type": "code",
   "execution_count": null,
   "id": "5407f161-811c-4759-9ca5-d0493c4079d0",
   "metadata": {},
   "outputs": [],
   "source": [
    "# We will know in the next chapter!"
   ]
  },
  {
   "cell_type": "markdown",
   "id": "42d4e7d0-f676-4a7f-8e37-444251d9031b",
   "metadata": {},
   "source": [
    "## Container Operations\n",
    "- List ( Add, Substract, Multiply, Divide, Power )\n",
    "- Set \n",
    "- String and Numeric Operations"
   ]
  },
  {
   "cell_type": "markdown",
   "id": "1946de06-f507-431d-be0a-597db87787cc",
   "metadata": {},
   "source": [
    "### List Operations\n",
    "- append\n",
    "- extend\n",
    "- insert\n",
    "- remove\n",
    "- pop\n",
    "- **slice**\n",
    "- reverse\n",
    "- **len**\n",
    "- **max & min**\n",
    "- **count**\n",
    "- concatenate\n",
    "- **multiply**\n",
    "- index \n",
    "- sort\n",
    "- clear"
   ]
  },
  {
   "cell_type": "markdown",
   "id": "6f9ce392-6e40-431c-b5cb-e5533e8fb971",
   "metadata": {},
   "source": [
    "#### Consider 2 lists"
   ]
  },
  {
   "cell_type": "code",
   "execution_count": 115,
   "id": "ccdd4070-7918-40ab-a8f8-767a60bc702f",
   "metadata": {},
   "outputs": [],
   "source": [
    "age = [24,21,23,22,20]\n",
    "score = [10,8,4,6,9]"
   ]
  },
  {
   "cell_type": "code",
   "execution_count": 126,
   "id": "8d7dd9df-9bcb-495b-b243-6413561136cf",
   "metadata": {},
   "outputs": [
    {
     "name": "stdout",
     "output_type": "stream",
     "text": [
      "[24, 21, 23, 22, 20]\n",
      "22\n"
     ]
    }
   ],
   "source": [
    "# slice - get single value\n",
    "print(age)\n",
    "print(age[3])"
   ]
  },
  {
   "cell_type": "code",
   "execution_count": 127,
   "id": "93c69af2-1efc-41ab-982c-b546a567b9bc",
   "metadata": {},
   "outputs": [
    {
     "name": "stdout",
     "output_type": "stream",
     "text": [
      "[24, 21, 23, 22, 20]\n",
      "[23, 22, 20]\n"
     ]
    }
   ],
   "source": [
    "# slice - start number till end of index\n",
    "print(age)\n",
    "print(age[2:])"
   ]
  },
  {
   "cell_type": "code",
   "execution_count": 128,
   "id": "4fef8db4-668b-4f0e-93ca-e9f937cfb331",
   "metadata": {},
   "outputs": [
    {
     "name": "stdout",
     "output_type": "stream",
     "text": [
      "[24, 21, 23, 22, 20]\n",
      "[24, 21, 23]\n"
     ]
    }
   ],
   "source": [
    "# slice - start to end at a certain index\n",
    "print(age)\n",
    "print(age[:3])"
   ]
  },
  {
   "cell_type": "code",
   "execution_count": 129,
   "id": "71f19c36-02ce-4d4f-9c3b-9fd69f75928d",
   "metadata": {},
   "outputs": [
    {
     "name": "stdout",
     "output_type": "stream",
     "text": [
      "[24, 21, 23, 22, 20]\n",
      "20\n"
     ]
    }
   ],
   "source": [
    "# slice - single value from back\n",
    "print(age)\n",
    "print(age[-1])"
   ]
  },
  {
   "cell_type": "code",
   "execution_count": 130,
   "id": "5a9d0069-7434-400c-bd00-4aceda84df39",
   "metadata": {},
   "outputs": [
    {
     "name": "stdout",
     "output_type": "stream",
     "text": [
      "[24, 21, 23, 22, 20]\n",
      "24\n"
     ]
    }
   ],
   "source": [
    "# slice - single value from back\n",
    "print(age)\n",
    "print(age[-5])"
   ]
  },
  {
   "cell_type": "code",
   "execution_count": 131,
   "id": "679c8c75-0000-4591-94dd-aebd42e1ee82",
   "metadata": {},
   "outputs": [
    {
     "name": "stdout",
     "output_type": "stream",
     "text": [
      "[24, 21, 23, 22, 20]\n",
      "5\n"
     ]
    }
   ],
   "source": [
    "# length\n",
    "print(age)\n",
    "print(len(age))"
   ]
  },
  {
   "cell_type": "code",
   "execution_count": 132,
   "id": "eeb16c85-36b3-4150-a8b3-8bfe2d279a11",
   "metadata": {},
   "outputs": [
    {
     "name": "stdout",
     "output_type": "stream",
     "text": [
      "[24, 21, 23, 22, 20]\n",
      "24\n"
     ]
    }
   ],
   "source": [
    "# max\n",
    "print(age)\n",
    "print(max(age))"
   ]
  },
  {
   "cell_type": "code",
   "execution_count": 133,
   "id": "af7df16b-9a19-4866-84fa-b5720d31262d",
   "metadata": {},
   "outputs": [
    {
     "name": "stdout",
     "output_type": "stream",
     "text": [
      "[24, 21, 23, 22, 20]\n",
      "20\n"
     ]
    }
   ],
   "source": [
    "# min\n",
    "print(age)\n",
    "print(min(age))"
   ]
  },
  {
   "cell_type": "code",
   "execution_count": 136,
   "id": "4f002d31-1725-40e8-90f4-98ba8c77142b",
   "metadata": {},
   "outputs": [
    {
     "name": "stdout",
     "output_type": "stream",
     "text": [
      "3\n"
     ]
    }
   ],
   "source": [
    "# count\n",
    "age_with_duplicates = [24,20,21,20,23,22,20]\n",
    "print(age_with_duplicates.count(20))"
   ]
  },
  {
   "cell_type": "code",
   "execution_count": 114,
   "id": "a87aaa9d-7c56-490f-94e5-b443a9a75501",
   "metadata": {},
   "outputs": [
    {
     "name": "stdout",
     "output_type": "stream",
     "text": [
      "[20, 21, 22, 23, 24, 20, 21, 22, 23, 24, 20, 21, 22, 23, 24]\n"
     ]
    }
   ],
   "source": [
    "# Multiply\n",
    "print(age * 3)"
   ]
  },
  {
   "cell_type": "code",
   "execution_count": 109,
   "id": "c05bcaef-2e01-444d-8bd0-1a8b160db686",
   "metadata": {},
   "outputs": [
    {
     "name": "stdout",
     "output_type": "stream",
     "text": [
      "[20, 21, 22, 23, 24, 10, 8, 4, 6, 9]\n"
     ]
    }
   ],
   "source": [
    "# Addition\n",
    "print(age + score)"
   ]
  },
  {
   "cell_type": "markdown",
   "id": "ac229c5f-43f4-4fa0-b142-f85f94fc15d3",
   "metadata": {},
   "source": [
    "### Others - To be learned in future"
   ]
  },
  {
   "cell_type": "markdown",
   "id": "7b034b20-30d7-4474-8cef-e25f58af0f41",
   "metadata": {},
   "source": [
    "# Next Topic: Data Conversion"
   ]
  },
  {
   "cell_type": "code",
   "execution_count": null,
   "id": "01acac8c-d0ef-4c91-ac70-6e76e5afe84b",
   "metadata": {},
   "outputs": [],
   "source": []
  }
 ],
 "metadata": {
  "kernelspec": {
   "display_name": "Python 3",
   "language": "python",
   "name": "python3"
  },
  "language_info": {
   "codemirror_mode": {
    "name": "ipython",
    "version": 3
   },
   "file_extension": ".py",
   "mimetype": "text/x-python",
   "name": "python",
   "nbconvert_exporter": "python",
   "pygments_lexer": "ipython3",
   "version": "3.8.8"
  },
  "toc-autonumbering": true
 },
 "nbformat": 4,
 "nbformat_minor": 5
}
