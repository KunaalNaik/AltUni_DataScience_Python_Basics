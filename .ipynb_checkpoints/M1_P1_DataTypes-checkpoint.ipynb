{
 "cells": [
  {
   "cell_type": "markdown",
   "id": "a1bd6d25-fafd-4c6e-b51e-9548c0258f4e",
   "metadata": {},
   "source": [
    "# Introduction to Python\n",
    "---\n",
    "## Data Types\n",
    "- Primitive\n",
    "- Containers (collection of Data)"
   ]
  },
  {
   "cell_type": "markdown",
   "id": "7b10f802-c64c-4367-8658-b19c02266509",
   "metadata": {},
   "source": [
    "### Variable"
   ]
  },
  {
   "cell_type": "code",
   "execution_count": 45,
   "id": "4eee901b-e3ef-48a9-afa4-efbe575ecc40",
   "metadata": {},
   "outputs": [],
   "source": [
    "# x is variable\n",
    "# user chooses to define the name\n",
    "# assign using single \"=\"\n",
    "x = 10"
   ]
  },
  {
   "cell_type": "code",
   "execution_count": 46,
   "id": "6fea481a-5f02-4d4c-882a-3228cfcec66c",
   "metadata": {},
   "outputs": [
    {
     "data": {
      "text/plain": [
       "10"
      ]
     },
     "execution_count": 46,
     "metadata": {},
     "output_type": "execute_result"
    }
   ],
   "source": [
    "# print\n",
    "x"
   ]
  },
  {
   "cell_type": "code",
   "execution_count": 47,
   "id": "a91d9c3e-19db-4faa-bdda-311cb0fc7776",
   "metadata": {},
   "outputs": [
    {
     "name": "stdout",
     "output_type": "stream",
     "text": [
      "10\n"
     ]
    }
   ],
   "source": [
    "# or use print()\n",
    "print(x)"
   ]
  },
  {
   "cell_type": "code",
   "execution_count": 48,
   "id": "d074c35b-a8a4-4544-bc40-23f512e7269f",
   "metadata": {},
   "outputs": [
    {
     "name": "stdout",
     "output_type": "stream",
     "text": [
      "55\n"
     ]
    }
   ],
   "source": [
    "# re assign \n",
    "x = 55\n",
    "print(x)"
   ]
  },
  {
   "cell_type": "code",
   "execution_count": 49,
   "id": "25d74c8f-195b-4365-9dfd-4889589b5028",
   "metadata": {},
   "outputs": [
    {
     "name": "stdout",
     "output_type": "stream",
     "text": [
      "55\n"
     ]
    }
   ],
   "source": [
    "# Order matters\n",
    "x = 10\n",
    "\n",
    "x = 55\n",
    "\n",
    "# prints the latest assigned value\n",
    "print(x)"
   ]
  },
  {
   "cell_type": "markdown",
   "id": "e29f5698-31de-40ae-b039-e8a91ff8e6b4",
   "metadata": {},
   "source": [
    "### Primitive"
   ]
  },
  {
   "cell_type": "markdown",
   "id": "64e8ceb3-b3ca-411d-b920-9c7578289d39",
   "metadata": {},
   "source": [
    "#### Number\n",
    "- Integer \n",
    "- Float"
   ]
  },
  {
   "cell_type": "code",
   "execution_count": 50,
   "id": "cdeea539-3c2f-4840-b60a-f45bdfab81d2",
   "metadata": {},
   "outputs": [
    {
     "data": {
      "text/plain": [
       "49"
      ]
     },
     "execution_count": 50,
     "metadata": {},
     "output_type": "execute_result"
    }
   ],
   "source": [
    "x_integer = 49\n",
    "x_integer"
   ]
  },
  {
   "cell_type": "code",
   "execution_count": 51,
   "id": "12227a11-0798-46a3-8056-91cf1ba84f25",
   "metadata": {},
   "outputs": [
    {
     "data": {
      "text/plain": [
       "1.5"
      ]
     },
     "execution_count": 51,
     "metadata": {},
     "output_type": "execute_result"
    }
   ],
   "source": [
    "x_float = 1.5\n",
    "x_float"
   ]
  },
  {
   "cell_type": "markdown",
   "id": "32905b27-99c4-43a9-92be-a9ab0249df6a",
   "metadata": {},
   "source": [
    "#### Boolean"
   ]
  },
  {
   "cell_type": "code",
   "execution_count": 52,
   "id": "a7fcccf4-47e0-48ea-ae4c-d999f50a24b8",
   "metadata": {},
   "outputs": [
    {
     "data": {
      "text/plain": [
       "True"
      ]
     },
     "execution_count": 52,
     "metadata": {},
     "output_type": "execute_result"
    }
   ],
   "source": [
    "True"
   ]
  },
  {
   "cell_type": "code",
   "execution_count": 53,
   "id": "b915fac4-92e1-4c0d-b009-9581ab825157",
   "metadata": {},
   "outputs": [
    {
     "data": {
      "text/plain": [
       "False"
      ]
     },
     "execution_count": 53,
     "metadata": {},
     "output_type": "execute_result"
    }
   ],
   "source": [
    "False"
   ]
  },
  {
   "cell_type": "code",
   "execution_count": 54,
   "id": "d90e9831-3eff-4e4d-bdd0-6d6af2dfd580",
   "metadata": {},
   "outputs": [
    {
     "data": {
      "text/plain": [
       "True"
      ]
     },
     "execution_count": 54,
     "metadata": {},
     "output_type": "execute_result"
    }
   ],
   "source": [
    "decision = True\n",
    "decision"
   ]
  },
  {
   "cell_type": "markdown",
   "id": "4dda676b-2f19-46a7-9542-b5c40cafebef",
   "metadata": {},
   "source": [
    "#### String"
   ]
  },
  {
   "cell_type": "code",
   "execution_count": 55,
   "id": "6db0fbd8-4585-43b8-8793-e9f273c35c59",
   "metadata": {},
   "outputs": [
    {
     "data": {
      "text/plain": [
       "'AltUni'"
      ]
     },
     "execution_count": 55,
     "metadata": {},
     "output_type": "execute_result"
    }
   ],
   "source": [
    "# using quotes denotes String\n",
    "# use can use single or double quotes \n",
    "# python prefers single quotes\n",
    "brand = 'AltUni'\n",
    "brand"
   ]
  },
  {
   "cell_type": "markdown",
   "id": "eef6464d-c7d8-4bc0-a71f-3eeaf3b0f04d",
   "metadata": {},
   "source": [
    "### Summary\n",
    "| Data Type    | Example  |\n",
    "| :---         |  :----:  |\n",
    "| Number - Integer         | 55 | \n",
    "| Number - Float       | 1.5 | \n",
    "| Boolean         | True/False | \n",
    "| String   | \"AltUni\" | "
   ]
  },
  {
   "cell_type": "markdown",
   "id": "fa21d086-946f-46f5-8be3-9f1c1fa55862",
   "metadata": {},
   "source": [
    "### Containers (collection of data)\n",
    "#### built-in collection data types\n",
    "- List\n",
    "- Tuple \n",
    "- Set\n",
    "- Dictionary"
   ]
  },
  {
   "cell_type": "markdown",
   "id": "9983078a-67c7-4fc8-86ba-6cbedb33fd05",
   "metadata": {},
   "source": [
    "#### List\n",
    "- Lists are used to store multiple items in a single variable\n",
    "- uses round bracket \"[\" or \"]\"\n",
    "\n",
    "##### Usage\n",
    "- [x] Ordered\n",
    "    - It means that the items have a defined order, and that order will not change\n",
    "- [x] Changeable\n",
    "    - It means we can change, add, and remove items in a list after it has been created\n",
    "- [x] Allow Duplicates\n",
    "    - It means it can have items with the same value"
   ]
  },
  {
   "cell_type": "code",
   "execution_count": 56,
   "id": "c9595937-ccbb-43ef-a006-f54fd88ab602",
   "metadata": {},
   "outputs": [
    {
     "data": {
      "text/plain": [
       "[23, 24, 26, 18, 21]"
      ]
     },
     "execution_count": 56,
     "metadata": {},
     "output_type": "execute_result"
    }
   ],
   "source": [
    "age = [23,24,26,18,21]\n",
    "age"
   ]
  },
  {
   "cell_type": "code",
   "execution_count": 57,
   "id": "436e87df-7ec0-429f-be7a-ffd7595686bc",
   "metadata": {},
   "outputs": [
    {
     "data": {
      "text/plain": [
       "['Raj', 'Ram', 'Rahul', 'Prashant', 'Tanvi']"
      ]
     },
     "execution_count": 57,
     "metadata": {},
     "output_type": "execute_result"
    }
   ],
   "source": [
    "names = ['Raj','Ram','Rahul','Prashant','Tanvi']\n",
    "names"
   ]
  },
  {
   "cell_type": "markdown",
   "id": "42b613e9-7a37-41fa-95dd-b6d1d23fb64c",
   "metadata": {},
   "source": [
    "#### Tuples\n",
    "- Tuples are used to store multiple items in a single variable\n",
    "- uses round bracket \"(\" or \")\"\n",
    "\n",
    "##### Usage\n",
    "- Tuples are more memory efficient than the lists\n",
    "- [x] Ordered\n",
    "- [ ] Changeable\n",
    "- [x] Allow Duplicates"
   ]
  },
  {
   "cell_type": "code",
   "execution_count": 58,
   "id": "dca89e0d-47e3-4390-b48b-ef5ce98524b5",
   "metadata": {},
   "outputs": [
    {
     "data": {
      "text/plain": [
       "(10.2, 15.6, 21.5)"
      ]
     },
     "execution_count": 58,
     "metadata": {},
     "output_type": "execute_result"
    }
   ],
   "source": [
    "constant = (10.2, 15.6, 21.5)\n",
    "constant"
   ]
  },
  {
   "cell_type": "markdown",
   "id": "4cc5df89-fd94-49db-9aa5-192b19405a64",
   "metadata": {},
   "source": [
    "#### Sets\n",
    "- Sets are used to store multiple items in a single variable\n",
    "- uses curly bracket \"{\" or \"}\"\n",
    "\n",
    "##### Usage\n",
    "- Tuples are more memory efficient than the lists\n",
    "- [ ] Ordered\n",
    "- [ ] Changeable\n",
    "- [ ] Allow Duplicates"
   ]
  },
  {
   "cell_type": "code",
   "execution_count": 59,
   "id": "4bb18730-ba4a-49e1-a7be-e719b3fc5e94",
   "metadata": {},
   "outputs": [
    {
     "data": {
      "text/plain": [
       "{'Excel', 'PowerPoint', 'Python', 'SQL'}"
      ]
     },
     "execution_count": 59,
     "metadata": {},
     "output_type": "execute_result"
    }
   ],
   "source": [
    "data_science_tools = {'Python', 'Excel', 'SQL', 'PowerPoint'}\n",
    "\n",
    "data_science_tools"
   ]
  },
  {
   "cell_type": "markdown",
   "id": "d2e973d9-deec-4d68-ae80-130fcd02aa1d",
   "metadata": {},
   "source": [
    "#### Dictionary\n",
    "- Dictionaries are used to store data values in key:value pairs\n",
    "- uses curly bracket \"{\" or \"}\" with **key**\n",
    "\n",
    "##### Usage\n",
    "- Tuples are more memory efficient than the lists\n",
    "- [x] Ordered\n",
    "- [ ] Changeable\n",
    "- [x] Allow Duplicates"
   ]
  },
  {
   "cell_type": "code",
   "execution_count": 61,
   "id": "b1c387ed-6d56-4c9d-942b-276c0b93c067",
   "metadata": {},
   "outputs": [
    {
     "data": {
      "text/plain": [
       "{'priority 1': 'Excel',\n",
       " 'priority 2': 'SQL',\n",
       " 'priority 3': 'Python',\n",
       " 'priority 4': 'PowerPoint'}"
      ]
     },
     "execution_count": 61,
     "metadata": {},
     "output_type": "execute_result"
    }
   ],
   "source": [
    "data_science_tools_priority = { 'priority 1' : 'Excel'\n",
    "                      , 'priority 2' : 'SQL'\n",
    "                      , 'priority 3' : 'Python'\n",
    "                      , 'priority 4' : 'PowerPoint'}\n",
    "\n",
    "data_science_tools_priority"
   ]
  },
  {
   "cell_type": "markdown",
   "id": "c064574a-9b34-449a-9307-0dcbccae410c",
   "metadata": {},
   "source": [
    "#### Array (Covered in future with Numpy)\n",
    "- An array is defined as a collection of items that are stored at contiguous memory locations\n",
    "- 2 variations \n",
    "    - package : array (import array as a)\n",
    "    - package : numpy (import numpy as np)"
   ]
  },
  {
   "cell_type": "markdown",
   "id": "99a2b35d-a1d4-491d-b9e8-addafb5343ed",
   "metadata": {},
   "source": [
    "##### package : array"
   ]
  },
  {
   "cell_type": "code",
   "execution_count": 62,
   "id": "54d35193-c32e-4194-a4bf-095c541120d9",
   "metadata": {},
   "outputs": [
    {
     "data": {
      "text/plain": [
       "[23, 24, 26, 18, 21]"
      ]
     },
     "execution_count": 62,
     "metadata": {},
     "output_type": "execute_result"
    }
   ],
   "source": [
    "# get previous list\n",
    "age"
   ]
  },
  {
   "cell_type": "code",
   "execution_count": 63,
   "id": "bd030d41-e0f9-4622-8528-9069778f2e08",
   "metadata": {},
   "outputs": [
    {
     "data": {
      "text/plain": [
       "array('i', [23, 24, 26, 18, 21])"
      ]
     },
     "execution_count": 63,
     "metadata": {},
     "output_type": "execute_result"
    }
   ],
   "source": [
    "import array as a\n",
    "\n",
    "names_array = a.array(\"i\", age)\n",
    "\n",
    "# also\n",
    "# names_array = a.array(\"i\", [23, 24, 26, 18, 21])\n",
    "\n",
    "names_array"
   ]
  },
  {
   "cell_type": "markdown",
   "id": "71dd416a-2ea6-4bad-ad89-34b64c31a8cb",
   "metadata": {},
   "source": [
    "##### package : numpy"
   ]
  },
  {
   "cell_type": "code",
   "execution_count": 64,
   "id": "5f8d1a22-cc4d-45d5-9900-9483e35c89dd",
   "metadata": {},
   "outputs": [
    {
     "data": {
      "text/plain": [
       "array([23, 24, 26, 18, 21])"
      ]
     },
     "execution_count": 64,
     "metadata": {},
     "output_type": "execute_result"
    }
   ],
   "source": [
    "import numpy as np\n",
    "\n",
    "names_np_array = np.array(age)\n",
    "\n",
    "# also\n",
    "# names_np_array = np.array([23, 24, 26, 18, 21])\n",
    "\n",
    "names_np_array"
   ]
  },
  {
   "cell_type": "markdown",
   "id": "3cddfa0e-1e94-4bf0-9fa3-12a72b20e954",
   "metadata": {},
   "source": [
    "### Container Summary"
   ]
  },
  {
   "cell_type": "markdown",
   "id": "c02340e9-74cb-451f-8c1e-be46cbcc0bbd",
   "metadata": {},
   "source": [
    "| Container    | Bracket  | Example |\n",
    "| :---         |  :----:  |    ---: |\n",
    "| List         | \"[\"  \"]\" | ['Raj','Ram','Rahul','Prashant','Tanvi'] |\n",
    "| Tuples       | \"(\"  \")\" | (10.2, 15.6, 21.5) |\n",
    "| Sets         | \"{\"  \"}\" | {'Python', 'Excel', 'SQL', 'PowerPoint'} |\n",
    "| Dictionary   | \"{\"  \"}\" | { 'priority 1' : 'Excel' , 'priority 2' : 'SQL', 'priority 3' : 'Python', 'priority 4' : 'PowerPoint'}|"
   ]
  },
  {
   "cell_type": "markdown",
   "id": "7b034b20-30d7-4474-8cef-e25f58af0f41",
   "metadata": {},
   "source": [
    "# Next Topic: Data Operations"
   ]
  },
  {
   "cell_type": "code",
   "execution_count": null,
   "id": "562931ca-b05e-4c78-bbf2-17f49765c1da",
   "metadata": {},
   "outputs": [],
   "source": []
  }
 ],
 "metadata": {
  "kernelspec": {
   "display_name": "Python 3",
   "language": "python",
   "name": "python3"
  },
  "language_info": {
   "codemirror_mode": {
    "name": "ipython",
    "version": 3
   },
   "file_extension": ".py",
   "mimetype": "text/x-python",
   "name": "python",
   "nbconvert_exporter": "python",
   "pygments_lexer": "ipython3",
   "version": "3.8.8"
  },
  "toc-autonumbering": true
 },
 "nbformat": 4,
 "nbformat_minor": 5
}
