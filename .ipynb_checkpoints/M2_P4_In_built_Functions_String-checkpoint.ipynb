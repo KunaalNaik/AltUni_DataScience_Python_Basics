{
 "cells": [
  {
   "cell_type": "markdown",
   "id": "a1bd6d25-fafd-4c6e-b51e-9548c0258f4e",
   "metadata": {},
   "source": [
    "# Introduction to Python\n",
    "---\n",
    "## In-built Functions - String"
   ]
  },
  {
   "cell_type": "markdown",
   "id": "7b10f802-c64c-4367-8658-b19c02266509",
   "metadata": {},
   "source": [
    "### str"
   ]
  },
  {
   "cell_type": "code",
   "execution_count": null,
   "id": "4eee901b-e3ef-48a9-afa4-efbe575ecc40",
   "metadata": {},
   "outputs": [],
   "source": []
  },
  {
   "cell_type": "markdown",
   "id": "e29f5698-31de-40ae-b039-e8a91ff8e6b4",
   "metadata": {},
   "source": [
    "### upper"
   ]
  },
  {
   "cell_type": "code",
   "execution_count": null,
   "id": "0f32ec13-69f3-42d1-9798-3066be198b19",
   "metadata": {},
   "outputs": [],
   "source": []
  },
  {
   "cell_type": "markdown",
   "id": "fa21d086-946f-46f5-8be3-9f1c1fa55862",
   "metadata": {},
   "source": [
    "### lower"
   ]
  },
  {
   "cell_type": "code",
   "execution_count": null,
   "id": "442968a0-c417-400c-8837-f1731a4d6a09",
   "metadata": {},
   "outputs": [],
   "source": []
  },
  {
   "cell_type": "markdown",
   "id": "9845ae75-5e6d-4399-aa68-54a0ff572039",
   "metadata": {},
   "source": [
    "## String Slicing"
   ]
  },
  {
   "cell_type": "code",
   "execution_count": null,
   "id": "e461c272-cda1-4b14-b7fa-5a9cfb44c271",
   "metadata": {},
   "outputs": [],
   "source": []
  }
 ],
 "metadata": {
  "kernelspec": {
   "display_name": "Python 3",
   "language": "python",
   "name": "python3"
  },
  "language_info": {
   "codemirror_mode": {
    "name": "ipython",
    "version": 3
   },
   "file_extension": ".py",
   "mimetype": "text/x-python",
   "name": "python",
   "nbconvert_exporter": "python",
   "pygments_lexer": "ipython3",
   "version": "3.8.8"
  },
  "toc-autonumbering": true
 },
 "nbformat": 4,
 "nbformat_minor": 5
}
