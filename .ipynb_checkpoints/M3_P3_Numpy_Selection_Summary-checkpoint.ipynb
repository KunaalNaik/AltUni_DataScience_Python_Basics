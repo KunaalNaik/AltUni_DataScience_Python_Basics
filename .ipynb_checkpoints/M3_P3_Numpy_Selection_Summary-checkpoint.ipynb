{
 "cells": [
  {
   "cell_type": "markdown",
   "id": "5de6f9f9-da54-4fba-b237-c915291a111c",
   "metadata": {},
   "source": [
    "# Introduction to Python\n",
    "---\n",
    "## Numpy In-built Functions\n",
    "\n",
    "- selection\n",
    "- zeros()\n",
    "- linspace()\n",
    "- eye()\n",
    "- reshape()"
   ]
  },
  {
   "cell_type": "code",
   "execution_count": 2,
   "id": "33619a0b-f3f4-4f86-b126-11b9cc135caa",
   "metadata": {},
   "outputs": [],
   "source": [
    "import numpy as np"
   ]
  },
  {
   "cell_type": "code",
   "execution_count": 18,
   "id": "a6040cea-3342-4b06-93f2-85b483c27df7",
   "metadata": {},
   "outputs": [],
   "source": [
    "arr = np.arange(25)\n",
    "random_arr = np.random.randint(0,50,20)"
   ]
  },
  {
   "cell_type": "markdown",
   "id": "7b10f802-c64c-4367-8658-b19c02266509",
   "metadata": {},
   "source": [
    "### selection"
   ]
  },
  {
   "cell_type": "code",
   "execution_count": 19,
   "id": "7bb10c57-de5d-4d01-97e6-1933cfc40604",
   "metadata": {},
   "outputs": [
    {
     "data": {
      "text/plain": [
       "array([27, 33, 44, 13, 30, 28, 46, 34, 48,  1, 11, 37, 35, 24,  7, 37, 40,\n",
       "       14, 21,  7])"
      ]
     },
     "execution_count": 19,
     "metadata": {},
     "output_type": "execute_result"
    }
   ],
   "source": [
    "random_arr"
   ]
  },
  {
   "cell_type": "code",
   "execution_count": 20,
   "id": "1c6dbad6-b2c0-44b3-96eb-fd9291bfecd1",
   "metadata": {},
   "outputs": [
    {
     "data": {
      "text/plain": [
       "array([ True,  True,  True, False,  True,  True,  True,  True,  True,\n",
       "       False, False,  True,  True, False, False,  True,  True, False,\n",
       "       False, False])"
      ]
     },
     "execution_count": 20,
     "metadata": {},
     "output_type": "execute_result"
    }
   ],
   "source": [
    "random_arr > 25"
   ]
  },
  {
   "cell_type": "code",
   "execution_count": 21,
   "id": "85969684-e7c4-43f5-873c-7433977db399",
   "metadata": {},
   "outputs": [
    {
     "data": {
      "text/plain": [
       "array([27, 33, 44, 30, 28, 46, 34, 48, 37, 35, 37, 40])"
      ]
     },
     "execution_count": 21,
     "metadata": {},
     "output_type": "execute_result"
    }
   ],
   "source": [
    "random_arr[random_arr > 25]"
   ]
  },
  {
   "cell_type": "markdown",
   "id": "592a8db1-0cc8-4fee-8c34-49ab9176d1d3",
   "metadata": {},
   "source": [
    "#### With a variable - treat outliers/missing values"
   ]
  },
  {
   "cell_type": "code",
   "execution_count": 22,
   "id": "f0dfdead-8772-4aa9-95bf-d17fa2b56aa7",
   "metadata": {},
   "outputs": [
    {
     "data": {
      "text/plain": [
       "26.85"
      ]
     },
     "execution_count": 22,
     "metadata": {},
     "output_type": "execute_result"
    }
   ],
   "source": [
    "avg_random = random_arr.mean()\n",
    "avg_random"
   ]
  },
  {
   "cell_type": "code",
   "execution_count": 23,
   "id": "3c85d107-63c4-4ec3-a13a-8db6d91870bb",
   "metadata": {},
   "outputs": [
    {
     "data": {
      "text/plain": [
       "array([27, 33, 44, 30, 28, 46, 34, 48, 37, 35, 37, 40])"
      ]
     },
     "execution_count": 23,
     "metadata": {},
     "output_type": "execute_result"
    }
   ],
   "source": [
    "random_arr[random_arr > avg_random]"
   ]
  },
  {
   "cell_type": "markdown",
   "id": "a7ff356e-bfff-4e64-a761-eca5fae78713",
   "metadata": {},
   "source": [
    "### Summary Functions"
   ]
  },
  {
   "cell_type": "code",
   "execution_count": 24,
   "id": "1229f945-7400-465b-9b8b-b367bd98baed",
   "metadata": {},
   "outputs": [
    {
     "data": {
      "text/plain": [
       "48"
      ]
     },
     "execution_count": 24,
     "metadata": {},
     "output_type": "execute_result"
    }
   ],
   "source": [
    "random_arr.max()"
   ]
  },
  {
   "cell_type": "code",
   "execution_count": 25,
   "id": "4eee901b-e3ef-48a9-afa4-efbe575ecc40",
   "metadata": {},
   "outputs": [
    {
     "data": {
      "text/plain": [
       "1"
      ]
     },
     "execution_count": 25,
     "metadata": {},
     "output_type": "execute_result"
    }
   ],
   "source": [
    "random_arr.min()"
   ]
  },
  {
   "cell_type": "code",
   "execution_count": 26,
   "id": "cde51d44-9fe8-4b60-a423-5590d06735aa",
   "metadata": {},
   "outputs": [
    {
     "data": {
      "text/plain": [
       "26.85"
      ]
     },
     "execution_count": 26,
     "metadata": {},
     "output_type": "execute_result"
    }
   ],
   "source": [
    "random_arr.mean()"
   ]
  },
  {
   "cell_type": "code",
   "execution_count": 27,
   "id": "738fd875-dc1a-4a63-acf3-cf68badcacff",
   "metadata": {},
   "outputs": [
    {
     "data": {
      "text/plain": [
       "8"
      ]
     },
     "execution_count": 27,
     "metadata": {},
     "output_type": "execute_result"
    }
   ],
   "source": [
    "random_arr.argmax()"
   ]
  },
  {
   "cell_type": "code",
   "execution_count": 28,
   "id": "c6887995-d45f-49f3-92e0-f5620ce2c3a2",
   "metadata": {},
   "outputs": [
    {
     "data": {
      "text/plain": [
       "9"
      ]
     },
     "execution_count": 28,
     "metadata": {},
     "output_type": "execute_result"
    }
   ],
   "source": [
    "random_arr.argmin()"
   ]
  },
  {
   "cell_type": "markdown",
   "id": "e29f5698-31de-40ae-b039-e8a91ff8e6b4",
   "metadata": {},
   "source": [
    "### linspace()"
   ]
  },
  {
   "cell_type": "code",
   "execution_count": 8,
   "id": "22f22996-0b7d-4bcd-8f7e-f4b7112983fa",
   "metadata": {},
   "outputs": [
    {
     "data": {
      "text/plain": [
       "array([ 0.,  5., 10.])"
      ]
     },
     "execution_count": 8,
     "metadata": {},
     "output_type": "execute_result"
    }
   ],
   "source": [
    "np.linspace(0,10,3)"
   ]
  },
  {
   "cell_type": "code",
   "execution_count": 10,
   "id": "1dcc94e2-90f8-4fe2-8461-69061db33ca0",
   "metadata": {},
   "outputs": [
    {
     "data": {
      "text/plain": [
       "array([ 0.        ,  0.34482759,  0.68965517,  1.03448276,  1.37931034,\n",
       "        1.72413793,  2.06896552,  2.4137931 ,  2.75862069,  3.10344828,\n",
       "        3.44827586,  3.79310345,  4.13793103,  4.48275862,  4.82758621,\n",
       "        5.17241379,  5.51724138,  5.86206897,  6.20689655,  6.55172414,\n",
       "        6.89655172,  7.24137931,  7.5862069 ,  7.93103448,  8.27586207,\n",
       "        8.62068966,  8.96551724,  9.31034483,  9.65517241, 10.        ])"
      ]
     },
     "execution_count": 10,
     "metadata": {},
     "output_type": "execute_result"
    }
   ],
   "source": [
    "np.linspace(0,10,30)"
   ]
  },
  {
   "cell_type": "markdown",
   "id": "32905b27-99c4-43a9-92be-a9ab0249df6a",
   "metadata": {},
   "source": [
    "### eye()"
   ]
  },
  {
   "cell_type": "code",
   "execution_count": 11,
   "id": "a7fcccf4-47e0-48ea-ae4c-d999f50a24b8",
   "metadata": {},
   "outputs": [
    {
     "data": {
      "text/plain": [
       "array([[1., 0., 0.],\n",
       "       [0., 1., 0.],\n",
       "       [0., 0., 1.]])"
      ]
     },
     "execution_count": 11,
     "metadata": {},
     "output_type": "execute_result"
    }
   ],
   "source": [
    "np.eye(3)"
   ]
  },
  {
   "cell_type": "code",
   "execution_count": 12,
   "id": "442968a0-c417-400c-8837-f1731a4d6a09",
   "metadata": {},
   "outputs": [
    {
     "data": {
      "text/plain": [
       "array([[1., 0., 0., 0.],\n",
       "       [0., 1., 0., 0.],\n",
       "       [0., 0., 1., 0.],\n",
       "       [0., 0., 0., 1.]])"
      ]
     },
     "execution_count": 12,
     "metadata": {},
     "output_type": "execute_result"
    }
   ],
   "source": [
    "np.eye(4)"
   ]
  },
  {
   "cell_type": "markdown",
   "id": "58aa7ad0-34c5-4f9a-b187-6eb6897a4510",
   "metadata": {},
   "source": [
    "### reshape"
   ]
  },
  {
   "cell_type": "code",
   "execution_count": 21,
   "id": "fb4faa3a-eaef-4e9b-8f53-3d8d2b5f54d0",
   "metadata": {},
   "outputs": [],
   "source": [
    "arr = np.arange(9)\n",
    "random_arr = np.random.randint(0,10,10)"
   ]
  },
  {
   "cell_type": "code",
   "execution_count": 22,
   "id": "7a7d2d6f-673f-4b2e-ab98-928a927107c5",
   "metadata": {},
   "outputs": [
    {
     "data": {
      "text/plain": [
       "array([0, 1, 2, 3, 4, 5, 6, 7, 8])"
      ]
     },
     "execution_count": 22,
     "metadata": {},
     "output_type": "execute_result"
    }
   ],
   "source": [
    "arr"
   ]
  },
  {
   "cell_type": "code",
   "execution_count": 23,
   "id": "6788637b-4a75-4b4f-b096-5d8d2ad030de",
   "metadata": {},
   "outputs": [
    {
     "data": {
      "text/plain": [
       "array([5, 1, 5, 0, 1, 4, 4, 5, 5, 7])"
      ]
     },
     "execution_count": 23,
     "metadata": {},
     "output_type": "execute_result"
    }
   ],
   "source": [
    "random_arr"
   ]
  },
  {
   "cell_type": "code",
   "execution_count": 24,
   "id": "b9a261f7-cfad-4067-8661-1f4f5fcfa754",
   "metadata": {},
   "outputs": [
    {
     "data": {
      "text/plain": [
       "array([[0, 1, 2],\n",
       "       [3, 4, 5],\n",
       "       [6, 7, 8]])"
      ]
     },
     "execution_count": 24,
     "metadata": {},
     "output_type": "execute_result"
    }
   ],
   "source": [
    "arr.reshape(3,3)"
   ]
  }
 ],
 "metadata": {
  "kernelspec": {
   "display_name": "Python 3",
   "language": "python",
   "name": "python3"
  },
  "language_info": {
   "codemirror_mode": {
    "name": "ipython",
    "version": 3
   },
   "file_extension": ".py",
   "mimetype": "text/x-python",
   "name": "python",
   "nbconvert_exporter": "python",
   "pygments_lexer": "ipython3",
   "version": "3.8.8"
  },
  "toc-autonumbering": true
 },
 "nbformat": 4,
 "nbformat_minor": 5
}
