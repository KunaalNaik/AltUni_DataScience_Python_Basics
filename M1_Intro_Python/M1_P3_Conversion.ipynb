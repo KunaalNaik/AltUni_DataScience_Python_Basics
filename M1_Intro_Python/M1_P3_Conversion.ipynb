{
 "cells": [
  {
   "cell_type": "markdown",
   "id": "a1bd6d25-fafd-4c6e-b51e-9548c0258f4e",
   "metadata": {},
   "source": [
    "# Introduction to Python\n",
    "---\n",
    "## Conversion"
   ]
  },
  {
   "cell_type": "markdown",
   "id": "7b10f802-c64c-4367-8658-b19c02266509",
   "metadata": {},
   "source": [
    "### Implicit"
   ]
  },
  {
   "cell_type": "code",
   "execution_count": null,
   "id": "4eee901b-e3ef-48a9-afa4-efbe575ecc40",
   "metadata": {},
   "outputs": [],
   "source": [
    "# Integer and Float - Addition, Subtract, Multiply\n",
    "x = 50\n",
    "y = 5.5\n",
    "\n",
    "print(x + y)\n",
    "print(x - y)\n",
    "print(x * y)\n",
    "\n",
    "# Converts to Float"
   ]
  },
  {
   "cell_type": "code",
   "execution_count": null,
   "id": "8d949ed0-1cd2-4c22-8755-2bd6a0700d4b",
   "metadata": {},
   "outputs": [],
   "source": [
    "# Integer and Integer - Divide\n",
    "x = 50\n",
    "y = 5\n",
    "\n",
    "print(x / y)\n",
    "\n",
    "# Converts to Float"
   ]
  },
  {
   "cell_type": "code",
   "execution_count": null,
   "id": "89fa572a-7c3c-421d-80d5-0f100028b2d3",
   "metadata": {},
   "outputs": [],
   "source": [
    "# Integer and Integer - Power\n",
    "x = 5\n",
    "y = 5\n",
    "\n",
    "print(x ** y)\n",
    "\n",
    "# Does not convert to Float"
   ]
  },
  {
   "cell_type": "markdown",
   "id": "e29f5698-31de-40ae-b039-e8a91ff8e6b4",
   "metadata": {},
   "source": [
    "### Explicit"
   ]
  },
  {
   "cell_type": "code",
   "execution_count": null,
   "id": "69a0a3cb-ea92-42e2-94d8-4696c04ada8d",
   "metadata": {},
   "outputs": [],
   "source": [
    "sentence = 'Number of modules completed : '\n",
    "modules = 5"
   ]
  },
  {
   "cell_type": "code",
   "execution_count": null,
   "id": "cdeea539-3c2f-4840-b60a-f45bdfab81d2",
   "metadata": {},
   "outputs": [],
   "source": [
    "# Integer and String\n",
    "\n",
    "print(sentence + modules)"
   ]
  },
  {
   "cell_type": "code",
   "execution_count": null,
   "id": "442968a0-c417-400c-8837-f1731a4d6a09",
   "metadata": {},
   "outputs": [],
   "source": [
    "# Convert modules to String\n",
    "\n",
    "print(sentence + str(modules))\n",
    "\n",
    "# Works!"
   ]
  },
  {
   "cell_type": "code",
   "execution_count": null,
   "id": "45ed54d7-015e-460b-8447-c68bd715827b",
   "metadata": {},
   "outputs": [],
   "source": [
    "# Convert sentence to Integer\n",
    "\n",
    "print(int(sentence) + modules)\n",
    "\n",
    "# Not Possible"
   ]
  },
  {
   "cell_type": "markdown",
   "id": "38d2177c-6d5e-4ec3-94ea-b0af9f45446e",
   "metadata": {},
   "source": [
    "# Next Topic: Input/Output/Print"
   ]
  }
 ],
 "metadata": {
  "kernelspec": {
   "display_name": "Python 3",
   "language": "python",
   "name": "python3"
  },
  "language_info": {
   "codemirror_mode": {
    "name": "ipython",
    "version": 3
   },
   "file_extension": ".py",
   "mimetype": "text/x-python",
   "name": "python",
   "nbconvert_exporter": "python",
   "pygments_lexer": "ipython3",
   "version": "3.8.8"
  },
  "toc-autonumbering": true
 },
 "nbformat": 4,
 "nbformat_minor": 5
}
