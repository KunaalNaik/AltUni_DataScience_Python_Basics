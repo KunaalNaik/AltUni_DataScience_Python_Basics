{
 "cells": [
  {
   "cell_type": "markdown",
   "id": "a1bd6d25-fafd-4c6e-b51e-9548c0258f4e",
   "metadata": {},
   "source": [
    "# Introduction to Python\n",
    "---\n",
    "## Types of Functions\n",
    "Functions manage the inputs and outputs in computer programs.\n",
    "- Python Built-in Functions\n",
    "- **Python User-defined Functions**\n",
    "- **Python Lambda Functions**\n",
    "- Python Recursion Functions"
   ]
  },
  {
   "cell_type": "markdown",
   "id": "7b10f802-c64c-4367-8658-b19c02266509",
   "metadata": {},
   "source": [
    "### Numeric Example\n",
    "- Find Cube of a number"
   ]
  },
  {
   "cell_type": "code",
   "execution_count": 7,
   "id": "4eee901b-e3ef-48a9-afa4-efbe575ecc40",
   "metadata": {},
   "outputs": [],
   "source": [
    "def cube(x):\n",
    "    return x * x * x\n",
    "\n",
    "# when you run, NOTHING happens"
   ]
  },
  {
   "cell_type": "code",
   "execution_count": 8,
   "id": "d6b4dfa0-ae96-49f3-ac83-2b67554fcaf8",
   "metadata": {},
   "outputs": [
    {
     "data": {
      "text/plain": [
       "27"
      ]
     },
     "execution_count": 8,
     "metadata": {},
     "output_type": "execute_result"
    }
   ],
   "source": [
    "# Need to be called to be used\n",
    "\n",
    "cube(3)"
   ]
  },
  {
   "cell_type": "code",
   "execution_count": 9,
   "id": "f13a7d8f-5e3a-475f-b60c-bcaf32120ead",
   "metadata": {},
   "outputs": [
    {
     "name": "stdout",
     "output_type": "stream",
     "text": [
      "0   0\n",
      "1   1\n",
      "2   8\n",
      "3   27\n",
      "4   64\n"
     ]
    }
   ],
   "source": [
    "for i in range(5):\n",
    "    print(i,\" \",cube(i))"
   ]
  },
  {
   "cell_type": "markdown",
   "id": "e29f5698-31de-40ae-b039-e8a91ff8e6b4",
   "metadata": {},
   "source": [
    "### Linear Equation\n",
    "- Used to produce \"y\" based on \"x\""
   ]
  },
  {
   "cell_type": "code",
   "execution_count": 10,
   "id": "0f32ec13-69f3-42d1-9798-3066be198b19",
   "metadata": {},
   "outputs": [],
   "source": [
    "def linear_eq(x):\n",
    "    \n",
    "    m = 0.5\n",
    "    c = 10\n",
    "    \n",
    "    y = m * x + c\n",
    "    \n",
    "    return y"
   ]
  },
  {
   "cell_type": "code",
   "execution_count": 11,
   "id": "8d5e479c-7e6b-462c-8db6-8f8eb784dfdf",
   "metadata": {},
   "outputs": [
    {
     "data": {
      "text/plain": [
       "12.5"
      ]
     },
     "execution_count": 11,
     "metadata": {},
     "output_type": "execute_result"
    }
   ],
   "source": [
    "linear_eq(5)"
   ]
  },
  {
   "cell_type": "code",
   "execution_count": 12,
   "id": "b5db545b-ea12-4728-a923-6773b93357be",
   "metadata": {},
   "outputs": [
    {
     "name": "stdout",
     "output_type": "stream",
     "text": [
      "0   10.0\n",
      "1   10.5\n",
      "2   11.0\n",
      "3   11.5\n",
      "4   12.0\n",
      "5   12.5\n",
      "6   13.0\n",
      "7   13.5\n",
      "8   14.0\n",
      "9   14.5\n"
     ]
    }
   ],
   "source": [
    "for i in range(10):\n",
    "    print(i,\" \",linear_eq(i))"
   ]
  },
  {
   "cell_type": "markdown",
   "id": "aa8072e8-b357-41fe-af52-25b628e7d135",
   "metadata": {},
   "source": [
    "### Lambda Example\n",
    "- In Python, an anonymous function is a function that is defined without a name."
   ]
  },
  {
   "cell_type": "code",
   "execution_count": 13,
   "id": "47164820-d4a6-4434-bf60-77d702e01b6f",
   "metadata": {},
   "outputs": [
    {
     "name": "stdout",
     "output_type": "stream",
     "text": [
      "27\n"
     ]
    }
   ],
   "source": [
    "myfunc = lambda x : x * x * x\n",
    "\n",
    "print(myfunc(3))"
   ]
  }
 ],
 "metadata": {
  "kernelspec": {
   "display_name": "Python 3",
   "language": "python",
   "name": "python3"
  },
  "language_info": {
   "codemirror_mode": {
    "name": "ipython",
    "version": 3
   },
   "file_extension": ".py",
   "mimetype": "text/x-python",
   "name": "python",
   "nbconvert_exporter": "python",
   "pygments_lexer": "ipython3",
   "version": "3.8.8"
  },
  "toc-autonumbering": true
 },
 "nbformat": 4,
 "nbformat_minor": 5
}
