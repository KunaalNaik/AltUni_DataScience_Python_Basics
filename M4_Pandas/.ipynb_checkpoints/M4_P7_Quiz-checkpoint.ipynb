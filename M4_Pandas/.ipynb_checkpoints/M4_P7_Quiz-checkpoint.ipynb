{
 "cells": [
  {
   "cell_type": "markdown",
   "id": "a1bd6d25-fafd-4c6e-b51e-9548c0258f4e",
   "metadata": {},
   "source": [
    "# Numpy\n",
    "---\n",
    "## Quiz"
   ]
  },
  {
   "cell_type": "code",
   "execution_count": null,
   "id": "a2071bf8-d8f4-4390-8e94-a38503bb1517",
   "metadata": {},
   "outputs": [],
   "source": [
    "import numpy as np"
   ]
  },
  {
   "cell_type": "markdown",
   "id": "7b10f802-c64c-4367-8658-b19c02266509",
   "metadata": {},
   "source": [
    "### Array Operations\n",
    "- What will this code print?"
   ]
  },
  {
   "cell_type": "code",
   "execution_count": null,
   "id": "4eee901b-e3ef-48a9-afa4-efbe575ecc40",
   "metadata": {},
   "outputs": [],
   "source": [
    "arr1 = np.arange(10)\n",
    "arr2 = np.array([9,8,7,6,5,4,3,2,1,0])\n",
    "\n",
    "arr1 + arr2"
   ]
  },
  {
   "cell_type": "markdown",
   "id": "e29f5698-31de-40ae-b039-e8a91ff8e6b4",
   "metadata": {},
   "source": [
    "### Array Summary\n",
    "- What will this code print?"
   ]
  },
  {
   "cell_type": "code",
   "execution_count": null,
   "id": "442968a0-c417-400c-8837-f1731a4d6a09",
   "metadata": {},
   "outputs": [],
   "source": [
    "arr1 = np.arange(10) * 1\n",
    "arr1.sum()"
   ]
  },
  {
   "cell_type": "markdown",
   "id": "05422d9f-9ec6-43e3-88d9-a6b6a9f00203",
   "metadata": {},
   "source": [
    "### Selection\n",
    "- How many values with this code print?"
   ]
  },
  {
   "cell_type": "code",
   "execution_count": null,
   "id": "7b044243-5bb6-4d62-85d3-dbc3678499ee",
   "metadata": {},
   "outputs": [],
   "source": [
    "arr = [9,8,7,6,5,4,3,2,1,0]\n",
    "\n",
    "arr[arr > 5]"
   ]
  }
 ],
 "metadata": {
  "kernelspec": {
   "display_name": "Python 3",
   "language": "python",
   "name": "python3"
  },
  "language_info": {
   "codemirror_mode": {
    "name": "ipython",
    "version": 3
   },
   "file_extension": ".py",
   "mimetype": "text/x-python",
   "name": "python",
   "nbconvert_exporter": "python",
   "pygments_lexer": "ipython3",
   "version": "3.8.8"
  },
  "toc-autonumbering": true
 },
 "nbformat": 4,
 "nbformat_minor": 5
}
