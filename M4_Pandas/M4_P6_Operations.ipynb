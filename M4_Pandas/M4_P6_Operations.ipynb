{
 "cells": [
  {
   "cell_type": "markdown",
   "metadata": {},
   "source": [
    "# Operations\n",
    "\n",
    "There are lots of operations with pandas that will be really useful to you, but don't fall into any distinct category. Let's show them here in this lecture:"
   ]
  },
  {
   "cell_type": "code",
   "execution_count": 1,
   "metadata": {},
   "outputs": [
    {
     "data": {
      "text/html": [
       "<div>\n",
       "<style scoped>\n",
       "    .dataframe tbody tr th:only-of-type {\n",
       "        vertical-align: middle;\n",
       "    }\n",
       "\n",
       "    .dataframe tbody tr th {\n",
       "        vertical-align: top;\n",
       "    }\n",
       "\n",
       "    .dataframe thead th {\n",
       "        text-align: right;\n",
       "    }\n",
       "</style>\n",
       "<table border=\"1\" class=\"dataframe\">\n",
       "  <thead>\n",
       "    <tr style=\"text-align: right;\">\n",
       "      <th></th>\n",
       "      <th>SalesRep</th>\n",
       "      <th>Region</th>\n",
       "      <th>Month</th>\n",
       "      <th>Sales</th>\n",
       "      <th>Units Sold</th>\n",
       "    </tr>\n",
       "  </thead>\n",
       "  <tbody>\n",
       "    <tr>\n",
       "      <th>0</th>\n",
       "      <td>Amy</td>\n",
       "      <td>North</td>\n",
       "      <td>Jan</td>\n",
       "      <td>23040.0</td>\n",
       "      <td>239.0</td>\n",
       "    </tr>\n",
       "    <tr>\n",
       "      <th>1</th>\n",
       "      <td>Amy</td>\n",
       "      <td>North</td>\n",
       "      <td>Feb</td>\n",
       "      <td>24131.0</td>\n",
       "      <td>79.0</td>\n",
       "    </tr>\n",
       "    <tr>\n",
       "      <th>2</th>\n",
       "      <td>Amy</td>\n",
       "      <td>North</td>\n",
       "      <td>Mar</td>\n",
       "      <td>24646.0</td>\n",
       "      <td>71.0</td>\n",
       "    </tr>\n",
       "    <tr>\n",
       "      <th>3</th>\n",
       "      <td>Amy</td>\n",
       "      <td>North</td>\n",
       "      <td>Apr</td>\n",
       "      <td>22047.0</td>\n",
       "      <td>71.0</td>\n",
       "    </tr>\n",
       "    <tr>\n",
       "      <th>4</th>\n",
       "      <td>Amy</td>\n",
       "      <td>North</td>\n",
       "      <td>May</td>\n",
       "      <td>24971.0</td>\n",
       "      <td>NaN</td>\n",
       "    </tr>\n",
       "  </tbody>\n",
       "</table>\n",
       "</div>"
      ],
      "text/plain": [
       "  SalesRep Region Month    Sales  Units Sold\n",
       "0      Amy  North   Jan  23040.0       239.0\n",
       "1      Amy  North   Feb  24131.0        79.0\n",
       "2      Amy  North   Mar  24646.0        71.0\n",
       "3      Amy  North   Apr  22047.0        71.0\n",
       "4      Amy  North   May  24971.0         NaN"
      ]
     },
     "execution_count": 1,
     "metadata": {},
     "output_type": "execute_result"
    }
   ],
   "source": [
    "import pandas as pd\n",
    "df = pd.read_csv('1_Sales.csv')\n",
    "df.head(5)"
   ]
  },
  {
   "cell_type": "code",
   "execution_count": 3,
   "metadata": {},
   "outputs": [
    {
     "data": {
      "text/html": [
       "<div>\n",
       "<style scoped>\n",
       "    .dataframe tbody tr th:only-of-type {\n",
       "        vertical-align: middle;\n",
       "    }\n",
       "\n",
       "    .dataframe tbody tr th {\n",
       "        vertical-align: top;\n",
       "    }\n",
       "\n",
       "    .dataframe thead th {\n",
       "        text-align: right;\n",
       "    }\n",
       "</style>\n",
       "<table border=\"1\" class=\"dataframe\">\n",
       "  <thead>\n",
       "    <tr style=\"text-align: right;\">\n",
       "      <th></th>\n",
       "      <th>count</th>\n",
       "      <th>mean</th>\n",
       "      <th>std</th>\n",
       "      <th>min</th>\n",
       "      <th>25%</th>\n",
       "      <th>50%</th>\n",
       "      <th>75%</th>\n",
       "      <th>max</th>\n",
       "    </tr>\n",
       "  </thead>\n",
       "  <tbody>\n",
       "    <tr>\n",
       "      <th>Sales</th>\n",
       "      <td>47.0</td>\n",
       "      <td>24209.425532</td>\n",
       "      <td>2671.207948</td>\n",
       "      <td>19625.0</td>\n",
       "      <td>22348.5</td>\n",
       "      <td>24218.0</td>\n",
       "      <td>25742.0</td>\n",
       "      <td>29953.0</td>\n",
       "    </tr>\n",
       "    <tr>\n",
       "      <th>Units Sold</th>\n",
       "      <td>47.0</td>\n",
       "      <td>206.617021</td>\n",
       "      <td>204.332269</td>\n",
       "      <td>68.0</td>\n",
       "      <td>86.5</td>\n",
       "      <td>114.0</td>\n",
       "      <td>227.0</td>\n",
       "      <td>852.0</td>\n",
       "    </tr>\n",
       "  </tbody>\n",
       "</table>\n",
       "</div>"
      ],
      "text/plain": [
       "            count          mean          std      min      25%      50%  \\\n",
       "Sales        47.0  24209.425532  2671.207948  19625.0  22348.5  24218.0   \n",
       "Units Sold   47.0    206.617021   204.332269     68.0     86.5    114.0   \n",
       "\n",
       "                75%      max  \n",
       "Sales       25742.0  29953.0  \n",
       "Units Sold    227.0    852.0  "
      ]
     },
     "execution_count": 3,
     "metadata": {},
     "output_type": "execute_result"
    }
   ],
   "source": [
    "df.describe().transpose()"
   ]
  },
  {
   "cell_type": "markdown",
   "metadata": {},
   "source": [
    "### Info on Unique Values"
   ]
  },
  {
   "cell_type": "code",
   "execution_count": 4,
   "metadata": {},
   "outputs": [
    {
     "data": {
      "text/plain": [
       "array(['Amy', 'Bob', 'Chuck', 'Doug'], dtype=object)"
      ]
     },
     "execution_count": 4,
     "metadata": {},
     "output_type": "execute_result"
    }
   ],
   "source": [
    "df['SalesRep'].unique()"
   ]
  },
  {
   "cell_type": "code",
   "execution_count": 5,
   "metadata": {},
   "outputs": [
    {
     "data": {
      "text/plain": [
       "4"
      ]
     },
     "execution_count": 5,
     "metadata": {},
     "output_type": "execute_result"
    }
   ],
   "source": [
    "df['SalesRep'].nunique()"
   ]
  },
  {
   "cell_type": "code",
   "execution_count": 6,
   "metadata": {},
   "outputs": [
    {
     "data": {
      "text/plain": [
       "Amy      12\n",
       "Bob      12\n",
       "Chuck    12\n",
       "Doug     12\n",
       "Name: SalesRep, dtype: int64"
      ]
     },
     "execution_count": 6,
     "metadata": {},
     "output_type": "execute_result"
    }
   ],
   "source": [
    "df['SalesRep'].value_counts()"
   ]
  },
  {
   "cell_type": "markdown",
   "metadata": {},
   "source": [
    "### Selecting Data"
   ]
  },
  {
   "cell_type": "code",
   "execution_count": 7,
   "metadata": {},
   "outputs": [],
   "source": [
    "#Select from DataFrame using criteria from multiple columns\n",
    "seldf = df[(df['Units Sold']>100) & (df['Month']=='Jan')]"
   ]
  },
  {
   "cell_type": "code",
   "execution_count": 8,
   "metadata": {},
   "outputs": [
    {
     "data": {
      "text/html": [
       "<div>\n",
       "<style scoped>\n",
       "    .dataframe tbody tr th:only-of-type {\n",
       "        vertical-align: middle;\n",
       "    }\n",
       "\n",
       "    .dataframe tbody tr th {\n",
       "        vertical-align: top;\n",
       "    }\n",
       "\n",
       "    .dataframe thead th {\n",
       "        text-align: right;\n",
       "    }\n",
       "</style>\n",
       "<table border=\"1\" class=\"dataframe\">\n",
       "  <thead>\n",
       "    <tr style=\"text-align: right;\">\n",
       "      <th></th>\n",
       "      <th>SalesRep</th>\n",
       "      <th>Region</th>\n",
       "      <th>Month</th>\n",
       "      <th>Sales</th>\n",
       "      <th>Units Sold</th>\n",
       "    </tr>\n",
       "  </thead>\n",
       "  <tbody>\n",
       "    <tr>\n",
       "      <th>0</th>\n",
       "      <td>Amy</td>\n",
       "      <td>North</td>\n",
       "      <td>Jan</td>\n",
       "      <td>23040.0</td>\n",
       "      <td>239.0</td>\n",
       "    </tr>\n",
       "    <tr>\n",
       "      <th>12</th>\n",
       "      <td>Bob</td>\n",
       "      <td>North</td>\n",
       "      <td>Jan</td>\n",
       "      <td>20024.0</td>\n",
       "      <td>103.0</td>\n",
       "    </tr>\n",
       "  </tbody>\n",
       "</table>\n",
       "</div>"
      ],
      "text/plain": [
       "   SalesRep Region Month    Sales  Units Sold\n",
       "0       Amy  North   Jan  23040.0       239.0\n",
       "12      Bob  North   Jan  20024.0       103.0"
      ]
     },
     "execution_count": 8,
     "metadata": {},
     "output_type": "execute_result"
    }
   ],
   "source": [
    "seldf"
   ]
  },
  {
   "cell_type": "markdown",
   "metadata": {},
   "source": [
    "### Applying Functions"
   ]
  },
  {
   "cell_type": "code",
   "execution_count": 9,
   "metadata": {},
   "outputs": [],
   "source": [
    "def times2(x):\n",
    "    return x*2"
   ]
  },
  {
   "cell_type": "code",
   "execution_count": 10,
   "metadata": {},
   "outputs": [
    {
     "data": {
      "text/plain": [
       "0    478.0\n",
       "1    158.0\n",
       "2    142.0\n",
       "3    142.0\n",
       "4      NaN\n",
       "Name: Units Sold, dtype: float64"
      ]
     },
     "execution_count": 10,
     "metadata": {},
     "output_type": "execute_result"
    }
   ],
   "source": [
    "df['Units Sold'].apply(times2).head()"
   ]
  },
  {
   "cell_type": "code",
   "execution_count": 11,
   "metadata": {},
   "outputs": [
    {
     "data": {
      "text/plain": [
       "0     239.0\n",
       "1      79.0\n",
       "2      71.0\n",
       "3      71.0\n",
       "4       NaN\n",
       "5      92.0\n",
       "6     175.0\n",
       "7      87.0\n",
       "8     557.0\n",
       "9      95.0\n",
       "10    706.0\n",
       "11    180.0\n",
       "12    103.0\n",
       "13    267.0\n",
       "14     96.0\n",
       "15     74.0\n",
       "16    231.0\n",
       "17    164.0\n",
       "18     68.0\n",
       "19    114.0\n",
       "20     84.0\n",
       "21    260.0\n",
       "22    109.0\n",
       "23    465.0\n",
       "24     95.0\n",
       "25    148.0\n",
       "26     83.0\n",
       "27     96.0\n",
       "28    453.0\n",
       "29    760.0\n",
       "30    155.0\n",
       "31    769.0\n",
       "32    114.0\n",
       "33     83.0\n",
       "34     70.0\n",
       "35    178.0\n",
       "36     92.0\n",
       "37    852.0\n",
       "38     86.0\n",
       "39    223.0\n",
       "40    242.0\n",
       "41     95.0\n",
       "42     82.0\n",
       "43    103.0\n",
       "44    146.0\n",
       "45    120.0\n",
       "46     81.0\n",
       "47    198.0\n",
       "Name: Units Sold, dtype: float64"
      ]
     },
     "execution_count": 11,
     "metadata": {},
     "output_type": "execute_result"
    }
   ],
   "source": [
    "df['Units Sold']"
   ]
  },
  {
   "cell_type": "code",
   "execution_count": null,
   "metadata": {},
   "outputs": [],
   "source": []
  }
 ],
 "metadata": {
  "kernelspec": {
   "display_name": "Python 3",
   "language": "python",
   "name": "python3"
  },
  "language_info": {
   "codemirror_mode": {
    "name": "ipython",
    "version": 3
   },
   "file_extension": ".py",
   "mimetype": "text/x-python",
   "name": "python",
   "nbconvert_exporter": "python",
   "pygments_lexer": "ipython3",
   "version": "3.8.8"
  }
 },
 "nbformat": 4,
 "nbformat_minor": 4
}
