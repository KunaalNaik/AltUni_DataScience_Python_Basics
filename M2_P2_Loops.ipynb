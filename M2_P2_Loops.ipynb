{
 "cells": [
  {
   "cell_type": "markdown",
   "id": "a1bd6d25-fafd-4c6e-b51e-9548c0258f4e",
   "metadata": {},
   "source": [
    "# Introduction to Python\n",
    "---\n",
    "## Loops\n",
    "- **for**\n",
    "- while\n",
    "- continue break\n",
    "- else + for\n",
    "- else + while"
   ]
  },
  {
   "cell_type": "markdown",
   "id": "7b10f802-c64c-4367-8658-b19c02266509",
   "metadata": {},
   "source": [
    "### For"
   ]
  },
  {
   "cell_type": "code",
   "execution_count": 1,
   "id": "4eee901b-e3ef-48a9-afa4-efbe575ecc40",
   "metadata": {},
   "outputs": [],
   "source": [
    "list_of_boring_number = [2, 3, 5, 7, 9]"
   ]
  },
  {
   "cell_type": "code",
   "execution_count": 2,
   "id": "442968a0-c417-400c-8837-f1731a4d6a09",
   "metadata": {},
   "outputs": [
    {
     "name": "stdout",
     "output_type": "stream",
     "text": [
      "2\n",
      "3\n",
      "5\n",
      "7\n",
      "9\n"
     ]
    }
   ],
   "source": [
    "for my_number in list_of_boring_number:\n",
    "    print(my_number)"
   ]
  },
  {
   "cell_type": "markdown",
   "id": "b4e9e8ab-b391-4515-a060-ce67c3da440c",
   "metadata": {},
   "source": [
    "### Introducing built-in function range()\n",
    "- Functions that come handy with loops"
   ]
  },
  {
   "cell_type": "markdown",
   "id": "e2d23b3f-c862-4da4-ae1d-092e068ce08f",
   "metadata": {},
   "source": [
    "#### range()\n",
    "- Function which generates a sequence of numbers - by default it starts with 0 and increments by 1\n",
    "- range(start, stop, step)\n",
    "- range(2, 10)"
   ]
  },
  {
   "cell_type": "code",
   "execution_count": 3,
   "id": "f7e06e4a-d367-43f4-b419-d9cf2feab802",
   "metadata": {},
   "outputs": [
    {
     "data": {
      "text/plain": [
       "range(0, 10)"
      ]
     },
     "execution_count": 3,
     "metadata": {},
     "output_type": "execute_result"
    }
   ],
   "source": [
    "range(10)"
   ]
  },
  {
   "cell_type": "code",
   "execution_count": 4,
   "id": "8a095f80-9e21-420e-839c-ad8cfdeb1b9e",
   "metadata": {},
   "outputs": [
    {
     "name": "stdout",
     "output_type": "stream",
     "text": [
      "0\n",
      "1\n",
      "2\n",
      "3\n",
      "4\n",
      "5\n",
      "6\n",
      "7\n",
      "8\n",
      "9\n"
     ]
    }
   ],
   "source": [
    "for my_number in range(10):\n",
    "    print(my_number)"
   ]
  },
  {
   "cell_type": "code",
   "execution_count": 5,
   "id": "5d353d63-3ad8-4adb-a5c5-80422be27ce8",
   "metadata": {},
   "outputs": [],
   "source": [
    "even_numbers = range(2,10,2)"
   ]
  },
  {
   "cell_type": "code",
   "execution_count": 6,
   "id": "b5836f67-5335-4daf-8e09-3ac0adbe2b46",
   "metadata": {},
   "outputs": [
    {
     "name": "stdout",
     "output_type": "stream",
     "text": [
      "2\n",
      "4\n",
      "6\n",
      "8\n"
     ]
    }
   ],
   "source": [
    "for my_number in even_numbers:\n",
    "    print(my_number)"
   ]
  },
  {
   "cell_type": "markdown",
   "id": "aba26414-79e0-4236-8148-1d481e457c40",
   "metadata": {},
   "source": [
    "#### Loop with 2 lists? - zip()\n",
    "- zip function combines 2 lists or tuples\n",
    "- used to loop through 2 iterators together \n",
    "- zip(iterator1, iterator2, iterator3 ...)"
   ]
  },
  {
   "cell_type": "code",
   "execution_count": 7,
   "id": "afa1db90-5ffc-415d-ad18-45d9984b8ca0",
   "metadata": {},
   "outputs": [
    {
     "data": {
      "text/plain": [
       "<zip at 0x2a57c832d80>"
      ]
     },
     "execution_count": 7,
     "metadata": {},
     "output_type": "execute_result"
    }
   ],
   "source": [
    "name = [\"Raj\", \"Rahul\", \"Sachin\"]\n",
    "age = [23,21,22]\n",
    "\n",
    "zipped = zip(name, age)\n",
    "zipped"
   ]
  },
  {
   "cell_type": "code",
   "execution_count": 8,
   "id": "7458ab9b-f0fd-41e6-94e2-6f45a2bcc225",
   "metadata": {},
   "outputs": [
    {
     "name": "stdout",
     "output_type": "stream",
     "text": [
      "Raj 23\n",
      "Rahul 21\n",
      "Sachin 22\n"
     ]
    }
   ],
   "source": [
    "for x, y in zipped:\n",
    "    print(x, y)"
   ]
  },
  {
   "cell_type": "code",
   "execution_count": 11,
   "id": "0cfdffb4-2994-4f94-91fa-34a20e97170a",
   "metadata": {},
   "outputs": [
    {
     "name": "stdout",
     "output_type": "stream",
     "text": [
      "Raj 23\n",
      "Rahul 21\n",
      "Sachin 22\n"
     ]
    }
   ],
   "source": [
    "# notice when we have different lenght\n",
    "name = [\"Raj\", \"Rahul\", \"Sachin\", \"Priya\"] # has 4 names\n",
    "age = [23,21,22]\n",
    "\n",
    "for x, y in zip(name, age):\n",
    "    print(x, y)"
   ]
  },
  {
   "cell_type": "markdown",
   "id": "75822b6e-2722-4ce2-8f76-bb5bc04afa55",
   "metadata": {},
   "source": [
    "# END"
   ]
  }
 ],
 "metadata": {
  "kernelspec": {
   "display_name": "Python 3",
   "language": "python",
   "name": "python3"
  },
  "language_info": {
   "codemirror_mode": {
    "name": "ipython",
    "version": 3
   },
   "file_extension": ".py",
   "mimetype": "text/x-python",
   "name": "python",
   "nbconvert_exporter": "python",
   "pygments_lexer": "ipython3",
   "version": "3.8.8"
  },
  "toc-autonumbering": true
 },
 "nbformat": 4,
 "nbformat_minor": 5
}
