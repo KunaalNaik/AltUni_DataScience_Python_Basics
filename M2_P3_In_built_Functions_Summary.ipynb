{
 "cells": [
  {
   "cell_type": "markdown",
   "id": "a1bd6d25-fafd-4c6e-b51e-9548c0258f4e",
   "metadata": {},
   "source": [
    "# Introduction to Python\n",
    "---\n",
    "## In-built Functions - Summary"
   ]
  },
  {
   "cell_type": "markdown",
   "id": "e29f5698-31de-40ae-b039-e8a91ff8e6b4",
   "metadata": {},
   "source": [
    "### sum"
   ]
  },
  {
   "cell_type": "code",
   "execution_count": null,
   "id": "cdeea539-3c2f-4840-b60a-f45bdfab81d2",
   "metadata": {},
   "outputs": [],
   "source": []
  },
  {
   "cell_type": "markdown",
   "id": "0866d319-099d-4a2d-a3e4-bb7a3023c2db",
   "metadata": {},
   "source": [
    "### mean"
   ]
  },
  {
   "cell_type": "code",
   "execution_count": null,
   "id": "12289771-6a5a-435e-8796-bf7459902f83",
   "metadata": {},
   "outputs": [],
   "source": []
  },
  {
   "cell_type": "markdown",
   "id": "c589cbc2-b3cc-48b5-943c-354491e9c5c5",
   "metadata": {},
   "source": [
    "### max"
   ]
  },
  {
   "cell_type": "code",
   "execution_count": null,
   "id": "94c7545e-9631-4575-9d08-c731ac981de3",
   "metadata": {},
   "outputs": [],
   "source": []
  },
  {
   "cell_type": "markdown",
   "id": "e5658b9a-a3fd-4af9-8f40-399cd2acb712",
   "metadata": {},
   "source": [
    "### min"
   ]
  },
  {
   "cell_type": "code",
   "execution_count": null,
   "id": "6508b570-c778-413c-a50a-a0f8012593be",
   "metadata": {},
   "outputs": [],
   "source": []
  }
 ],
 "metadata": {
  "kernelspec": {
   "display_name": "Python 3",
   "language": "python",
   "name": "python3"
  },
  "language_info": {
   "codemirror_mode": {
    "name": "ipython",
    "version": 3
   },
   "file_extension": ".py",
   "mimetype": "text/x-python",
   "name": "python",
   "nbconvert_exporter": "python",
   "pygments_lexer": "ipython3",
   "version": "3.8.8"
  },
  "toc-autonumbering": true
 },
 "nbformat": 4,
 "nbformat_minor": 5
}
