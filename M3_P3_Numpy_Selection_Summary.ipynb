{
 "cells": [
  {
   "cell_type": "markdown",
   "id": "5de6f9f9-da54-4fba-b237-c915291a111c",
   "metadata": {},
   "source": [
    "# Introduction to Python\n",
    "---\n",
    "## Numpy Selection and Summary\n",
    "\n",
    "- selection\n",
    "- summary functions"
   ]
  },
  {
   "cell_type": "code",
   "execution_count": 1,
   "id": "33619a0b-f3f4-4f86-b126-11b9cc135caa",
   "metadata": {},
   "outputs": [],
   "source": [
    "import numpy as np"
   ]
  },
  {
   "cell_type": "code",
   "execution_count": 2,
   "id": "a6040cea-3342-4b06-93f2-85b483c27df7",
   "metadata": {},
   "outputs": [],
   "source": [
    "arr = np.arange(25)\n",
    "random_arr = np.random.randint(0,50,20)"
   ]
  },
  {
   "cell_type": "markdown",
   "id": "7b10f802-c64c-4367-8658-b19c02266509",
   "metadata": {},
   "source": [
    "### selection"
   ]
  },
  {
   "cell_type": "code",
   "execution_count": 3,
   "id": "7bb10c57-de5d-4d01-97e6-1933cfc40604",
   "metadata": {},
   "outputs": [
    {
     "data": {
      "text/plain": [
       "array([31, 15, 12,  7, 32, 35, 17,  7, 48, 29, 12, 13, 10, 34,  7, 27,  7,\n",
       "       42, 43, 16])"
      ]
     },
     "execution_count": 3,
     "metadata": {},
     "output_type": "execute_result"
    }
   ],
   "source": [
    "random_arr"
   ]
  },
  {
   "cell_type": "code",
   "execution_count": 4,
   "id": "1c6dbad6-b2c0-44b3-96eb-fd9291bfecd1",
   "metadata": {},
   "outputs": [
    {
     "data": {
      "text/plain": [
       "array([ True, False, False, False,  True,  True, False, False,  True,\n",
       "        True, False, False, False,  True, False,  True, False,  True,\n",
       "        True, False])"
      ]
     },
     "execution_count": 4,
     "metadata": {},
     "output_type": "execute_result"
    }
   ],
   "source": [
    "random_arr > 25"
   ]
  },
  {
   "cell_type": "code",
   "execution_count": 5,
   "id": "85969684-e7c4-43f5-873c-7433977db399",
   "metadata": {},
   "outputs": [
    {
     "data": {
      "text/plain": [
       "array([31, 32, 35, 48, 29, 34, 27, 42, 43])"
      ]
     },
     "execution_count": 5,
     "metadata": {},
     "output_type": "execute_result"
    }
   ],
   "source": [
    "random_arr[random_arr > 25]"
   ]
  },
  {
   "cell_type": "markdown",
   "id": "592a8db1-0cc8-4fee-8c34-49ab9176d1d3",
   "metadata": {},
   "source": [
    "#### With a variable - treat outliers/missing values"
   ]
  },
  {
   "cell_type": "code",
   "execution_count": 6,
   "id": "f0dfdead-8772-4aa9-95bf-d17fa2b56aa7",
   "metadata": {},
   "outputs": [
    {
     "data": {
      "text/plain": [
       "22.2"
      ]
     },
     "execution_count": 6,
     "metadata": {},
     "output_type": "execute_result"
    }
   ],
   "source": [
    "avg_random = random_arr.mean()\n",
    "avg_random"
   ]
  },
  {
   "cell_type": "code",
   "execution_count": 7,
   "id": "3c85d107-63c4-4ec3-a13a-8db6d91870bb",
   "metadata": {},
   "outputs": [
    {
     "data": {
      "text/plain": [
       "array([31, 32, 35, 48, 29, 34, 27, 42, 43])"
      ]
     },
     "execution_count": 7,
     "metadata": {},
     "output_type": "execute_result"
    }
   ],
   "source": [
    "random_arr[random_arr > avg_random]"
   ]
  },
  {
   "cell_type": "markdown",
   "id": "a7ff356e-bfff-4e64-a761-eca5fae78713",
   "metadata": {},
   "source": [
    "### Summary Functions"
   ]
  },
  {
   "cell_type": "code",
   "execution_count": 8,
   "id": "1229f945-7400-465b-9b8b-b367bd98baed",
   "metadata": {},
   "outputs": [
    {
     "data": {
      "text/plain": [
       "48"
      ]
     },
     "execution_count": 8,
     "metadata": {},
     "output_type": "execute_result"
    }
   ],
   "source": [
    "random_arr.max()"
   ]
  },
  {
   "cell_type": "code",
   "execution_count": 9,
   "id": "4eee901b-e3ef-48a9-afa4-efbe575ecc40",
   "metadata": {},
   "outputs": [
    {
     "data": {
      "text/plain": [
       "7"
      ]
     },
     "execution_count": 9,
     "metadata": {},
     "output_type": "execute_result"
    }
   ],
   "source": [
    "random_arr.min()"
   ]
  },
  {
   "cell_type": "code",
   "execution_count": 10,
   "id": "cde51d44-9fe8-4b60-a423-5590d06735aa",
   "metadata": {},
   "outputs": [
    {
     "data": {
      "text/plain": [
       "22.2"
      ]
     },
     "execution_count": 10,
     "metadata": {},
     "output_type": "execute_result"
    }
   ],
   "source": [
    "random_arr.mean()"
   ]
  },
  {
   "cell_type": "code",
   "execution_count": 11,
   "id": "738fd875-dc1a-4a63-acf3-cf68badcacff",
   "metadata": {},
   "outputs": [
    {
     "data": {
      "text/plain": [
       "8"
      ]
     },
     "execution_count": 11,
     "metadata": {},
     "output_type": "execute_result"
    }
   ],
   "source": [
    "random_arr.argmax()"
   ]
  },
  {
   "cell_type": "code",
   "execution_count": 12,
   "id": "c6887995-d45f-49f3-92e0-f5620ce2c3a2",
   "metadata": {},
   "outputs": [
    {
     "data": {
      "text/plain": [
       "3"
      ]
     },
     "execution_count": 12,
     "metadata": {},
     "output_type": "execute_result"
    }
   ],
   "source": [
    "random_arr.argmin()"
   ]
  },
  {
   "cell_type": "code",
   "execution_count": null,
   "id": "4ad358dd-b89f-4297-aefc-bcffa208bfaf",
   "metadata": {},
   "outputs": [],
   "source": []
  }
 ],
 "metadata": {
  "kernelspec": {
   "display_name": "Python 3",
   "language": "python",
   "name": "python3"
  },
  "language_info": {
   "codemirror_mode": {
    "name": "ipython",
    "version": 3
   },
   "file_extension": ".py",
   "mimetype": "text/x-python",
   "name": "python",
   "nbconvert_exporter": "python",
   "pygments_lexer": "ipython3",
   "version": "3.8.8"
  },
  "toc-autonumbering": true
 },
 "nbformat": 4,
 "nbformat_minor": 5
}
