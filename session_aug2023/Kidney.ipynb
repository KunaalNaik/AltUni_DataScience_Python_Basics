{
 "cells": [
  {
   "cell_type": "markdown",
   "id": "739d7790-4ea0-4f11-835b-7a1c24ef312a",
   "metadata": {},
   "source": [
    "# Import Package"
   ]
  },
  {
   "cell_type": "code",
   "execution_count": 1,
   "id": "058aa919-c4e3-4c97-921e-540f4438bfe6",
   "metadata": {},
   "outputs": [],
   "source": [
    "import pandas as pd\n",
    "import numpy as np\n",
    "\n",
    "import matplotlib.pyplot as plt\n",
    "\n",
    "from sklearn.linear_model import LogisticRegression"
   ]
  },
  {
   "cell_type": "markdown",
   "id": "2132190d-cf92-4032-990c-08fcdf78f6a9",
   "metadata": {},
   "source": [
    "# Import Data"
   ]
  },
  {
   "cell_type": "code",
   "execution_count": 2,
   "id": "7d568582-c2a4-430a-9de5-4f2d00cc1a1a",
   "metadata": {},
   "outputs": [],
   "source": [
    "df = pd.read_csv('kidney.csv')"
   ]
  },
  {
   "cell_type": "code",
   "execution_count": 3,
   "id": "69629793-84ac-4378-99be-726226de44cd",
   "metadata": {},
   "outputs": [
    {
     "data": {
      "text/html": [
       "<div>\n",
       "<style scoped>\n",
       "    .dataframe tbody tr th:only-of-type {\n",
       "        vertical-align: middle;\n",
       "    }\n",
       "\n",
       "    .dataframe tbody tr th {\n",
       "        vertical-align: top;\n",
       "    }\n",
       "\n",
       "    .dataframe thead th {\n",
       "        text-align: right;\n",
       "    }\n",
       "</style>\n",
       "<table border=\"1\" class=\"dataframe\">\n",
       "  <thead>\n",
       "    <tr style=\"text-align: right;\">\n",
       "      <th></th>\n",
       "      <th>id</th>\n",
       "      <th>gravity</th>\n",
       "      <th>ph</th>\n",
       "      <th>osmo</th>\n",
       "      <th>cond</th>\n",
       "      <th>urea</th>\n",
       "      <th>calc</th>\n",
       "      <th>target</th>\n",
       "    </tr>\n",
       "  </thead>\n",
       "  <tbody>\n",
       "    <tr>\n",
       "      <th>0</th>\n",
       "      <td>0</td>\n",
       "      <td>1.013</td>\n",
       "      <td>6.19</td>\n",
       "      <td>443</td>\n",
       "      <td>14.8</td>\n",
       "      <td>124</td>\n",
       "      <td>1.45</td>\n",
       "      <td>0</td>\n",
       "    </tr>\n",
       "    <tr>\n",
       "      <th>1</th>\n",
       "      <td>1</td>\n",
       "      <td>1.025</td>\n",
       "      <td>5.40</td>\n",
       "      <td>703</td>\n",
       "      <td>23.6</td>\n",
       "      <td>394</td>\n",
       "      <td>4.18</td>\n",
       "      <td>0</td>\n",
       "    </tr>\n",
       "    <tr>\n",
       "      <th>2</th>\n",
       "      <td>2</td>\n",
       "      <td>1.009</td>\n",
       "      <td>6.13</td>\n",
       "      <td>371</td>\n",
       "      <td>24.5</td>\n",
       "      <td>159</td>\n",
       "      <td>9.04</td>\n",
       "      <td>0</td>\n",
       "    </tr>\n",
       "    <tr>\n",
       "      <th>3</th>\n",
       "      <td>3</td>\n",
       "      <td>1.021</td>\n",
       "      <td>4.91</td>\n",
       "      <td>442</td>\n",
       "      <td>20.8</td>\n",
       "      <td>398</td>\n",
       "      <td>6.63</td>\n",
       "      <td>1</td>\n",
       "    </tr>\n",
       "    <tr>\n",
       "      <th>4</th>\n",
       "      <td>4</td>\n",
       "      <td>1.021</td>\n",
       "      <td>5.53</td>\n",
       "      <td>874</td>\n",
       "      <td>17.8</td>\n",
       "      <td>385</td>\n",
       "      <td>2.21</td>\n",
       "      <td>1</td>\n",
       "    </tr>\n",
       "  </tbody>\n",
       "</table>\n",
       "</div>"
      ],
      "text/plain": [
       "   id  gravity    ph  osmo  cond  urea  calc  target\n",
       "0   0    1.013  6.19   443  14.8   124  1.45       0\n",
       "1   1    1.025  5.40   703  23.6   394  4.18       0\n",
       "2   2    1.009  6.13   371  24.5   159  9.04       0\n",
       "3   3    1.021  4.91   442  20.8   398  6.63       1\n",
       "4   4    1.021  5.53   874  17.8   385  2.21       1"
      ]
     },
     "execution_count": 3,
     "metadata": {},
     "output_type": "execute_result"
    }
   ],
   "source": [
    "df.head()"
   ]
  },
  {
   "cell_type": "code",
   "execution_count": 4,
   "id": "1c04fe2f-ee38-47a7-900d-0148b8ce491f",
   "metadata": {},
   "outputs": [
    {
     "name": "stdout",
     "output_type": "stream",
     "text": [
      "<class 'pandas.core.frame.DataFrame'>\n",
      "RangeIndex: 414 entries, 0 to 413\n",
      "Data columns (total 8 columns):\n",
      " #   Column   Non-Null Count  Dtype  \n",
      "---  ------   --------------  -----  \n",
      " 0   id       414 non-null    int64  \n",
      " 1   gravity  414 non-null    float64\n",
      " 2   ph       414 non-null    float64\n",
      " 3   osmo     414 non-null    int64  \n",
      " 4   cond     414 non-null    float64\n",
      " 5   urea     414 non-null    int64  \n",
      " 6   calc     414 non-null    float64\n",
      " 7   target   414 non-null    int64  \n",
      "dtypes: float64(4), int64(4)\n",
      "memory usage: 26.0 KB\n"
     ]
    }
   ],
   "source": [
    "df.info()"
   ]
  },
  {
   "cell_type": "markdown",
   "id": "327b9f37-00a5-4d27-8b2f-116eab98770a",
   "metadata": {},
   "source": [
    "# Partition Data"
   ]
  },
  {
   "cell_type": "code",
   "execution_count": 6,
   "id": "ac74ced0-d016-497a-a6f2-898ddc49b07c",
   "metadata": {},
   "outputs": [],
   "source": [
    "y = df['target'] # Dependent, Predict\n",
    "#X = df[['gravity','ph','osmo','cond','urea']] # In Dependent - Features - Variables\n",
    "\n",
    "X = df.drop(['target','id'], axis = 1)"
   ]
  },
  {
   "cell_type": "code",
   "execution_count": 7,
   "id": "4db2e0ce-04a1-413b-9646-9b94a2a3cb1c",
   "metadata": {},
   "outputs": [
    {
     "data": {
      "text/html": [
       "<div>\n",
       "<style scoped>\n",
       "    .dataframe tbody tr th:only-of-type {\n",
       "        vertical-align: middle;\n",
       "    }\n",
       "\n",
       "    .dataframe tbody tr th {\n",
       "        vertical-align: top;\n",
       "    }\n",
       "\n",
       "    .dataframe thead th {\n",
       "        text-align: right;\n",
       "    }\n",
       "</style>\n",
       "<table border=\"1\" class=\"dataframe\">\n",
       "  <thead>\n",
       "    <tr style=\"text-align: right;\">\n",
       "      <th></th>\n",
       "      <th>gravity</th>\n",
       "      <th>ph</th>\n",
       "      <th>osmo</th>\n",
       "      <th>cond</th>\n",
       "      <th>urea</th>\n",
       "      <th>calc</th>\n",
       "    </tr>\n",
       "  </thead>\n",
       "  <tbody>\n",
       "    <tr>\n",
       "      <th>0</th>\n",
       "      <td>1.013</td>\n",
       "      <td>6.19</td>\n",
       "      <td>443</td>\n",
       "      <td>14.8</td>\n",
       "      <td>124</td>\n",
       "      <td>1.45</td>\n",
       "    </tr>\n",
       "    <tr>\n",
       "      <th>1</th>\n",
       "      <td>1.025</td>\n",
       "      <td>5.40</td>\n",
       "      <td>703</td>\n",
       "      <td>23.6</td>\n",
       "      <td>394</td>\n",
       "      <td>4.18</td>\n",
       "    </tr>\n",
       "    <tr>\n",
       "      <th>2</th>\n",
       "      <td>1.009</td>\n",
       "      <td>6.13</td>\n",
       "      <td>371</td>\n",
       "      <td>24.5</td>\n",
       "      <td>159</td>\n",
       "      <td>9.04</td>\n",
       "    </tr>\n",
       "    <tr>\n",
       "      <th>3</th>\n",
       "      <td>1.021</td>\n",
       "      <td>4.91</td>\n",
       "      <td>442</td>\n",
       "      <td>20.8</td>\n",
       "      <td>398</td>\n",
       "      <td>6.63</td>\n",
       "    </tr>\n",
       "    <tr>\n",
       "      <th>4</th>\n",
       "      <td>1.021</td>\n",
       "      <td>5.53</td>\n",
       "      <td>874</td>\n",
       "      <td>17.8</td>\n",
       "      <td>385</td>\n",
       "      <td>2.21</td>\n",
       "    </tr>\n",
       "  </tbody>\n",
       "</table>\n",
       "</div>"
      ],
      "text/plain": [
       "   gravity    ph  osmo  cond  urea  calc\n",
       "0    1.013  6.19   443  14.8   124  1.45\n",
       "1    1.025  5.40   703  23.6   394  4.18\n",
       "2    1.009  6.13   371  24.5   159  9.04\n",
       "3    1.021  4.91   442  20.8   398  6.63\n",
       "4    1.021  5.53   874  17.8   385  2.21"
      ]
     },
     "execution_count": 7,
     "metadata": {},
     "output_type": "execute_result"
    }
   ],
   "source": [
    "X.head()"
   ]
  },
  {
   "cell_type": "markdown",
   "id": "2923389e-9b7f-47f9-b230-3e2cde79b9d3",
   "metadata": {},
   "source": [
    "# Model"
   ]
  },
  {
   "cell_type": "code",
   "execution_count": 8,
   "id": "cb0c7e2d-4128-401a-b6ff-5320803e86c0",
   "metadata": {},
   "outputs": [
    {
     "data": {
      "text/html": [
       "<style>#sk-container-id-1 {color: black;background-color: white;}#sk-container-id-1 pre{padding: 0;}#sk-container-id-1 div.sk-toggleable {background-color: white;}#sk-container-id-1 label.sk-toggleable__label {cursor: pointer;display: block;width: 100%;margin-bottom: 0;padding: 0.3em;box-sizing: border-box;text-align: center;}#sk-container-id-1 label.sk-toggleable__label-arrow:before {content: \"▸\";float: left;margin-right: 0.25em;color: #696969;}#sk-container-id-1 label.sk-toggleable__label-arrow:hover:before {color: black;}#sk-container-id-1 div.sk-estimator:hover label.sk-toggleable__label-arrow:before {color: black;}#sk-container-id-1 div.sk-toggleable__content {max-height: 0;max-width: 0;overflow: hidden;text-align: left;background-color: #f0f8ff;}#sk-container-id-1 div.sk-toggleable__content pre {margin: 0.2em;color: black;border-radius: 0.25em;background-color: #f0f8ff;}#sk-container-id-1 input.sk-toggleable__control:checked~div.sk-toggleable__content {max-height: 200px;max-width: 100%;overflow: auto;}#sk-container-id-1 input.sk-toggleable__control:checked~label.sk-toggleable__label-arrow:before {content: \"▾\";}#sk-container-id-1 div.sk-estimator input.sk-toggleable__control:checked~label.sk-toggleable__label {background-color: #d4ebff;}#sk-container-id-1 div.sk-label input.sk-toggleable__control:checked~label.sk-toggleable__label {background-color: #d4ebff;}#sk-container-id-1 input.sk-hidden--visually {border: 0;clip: rect(1px 1px 1px 1px);clip: rect(1px, 1px, 1px, 1px);height: 1px;margin: -1px;overflow: hidden;padding: 0;position: absolute;width: 1px;}#sk-container-id-1 div.sk-estimator {font-family: monospace;background-color: #f0f8ff;border: 1px dotted black;border-radius: 0.25em;box-sizing: border-box;margin-bottom: 0.5em;}#sk-container-id-1 div.sk-estimator:hover {background-color: #d4ebff;}#sk-container-id-1 div.sk-parallel-item::after {content: \"\";width: 100%;border-bottom: 1px solid gray;flex-grow: 1;}#sk-container-id-1 div.sk-label:hover label.sk-toggleable__label {background-color: #d4ebff;}#sk-container-id-1 div.sk-serial::before {content: \"\";position: absolute;border-left: 1px solid gray;box-sizing: border-box;top: 0;bottom: 0;left: 50%;z-index: 0;}#sk-container-id-1 div.sk-serial {display: flex;flex-direction: column;align-items: center;background-color: white;padding-right: 0.2em;padding-left: 0.2em;position: relative;}#sk-container-id-1 div.sk-item {position: relative;z-index: 1;}#sk-container-id-1 div.sk-parallel {display: flex;align-items: stretch;justify-content: center;background-color: white;position: relative;}#sk-container-id-1 div.sk-item::before, #sk-container-id-1 div.sk-parallel-item::before {content: \"\";position: absolute;border-left: 1px solid gray;box-sizing: border-box;top: 0;bottom: 0;left: 50%;z-index: -1;}#sk-container-id-1 div.sk-parallel-item {display: flex;flex-direction: column;z-index: 1;position: relative;background-color: white;}#sk-container-id-1 div.sk-parallel-item:first-child::after {align-self: flex-end;width: 50%;}#sk-container-id-1 div.sk-parallel-item:last-child::after {align-self: flex-start;width: 50%;}#sk-container-id-1 div.sk-parallel-item:only-child::after {width: 0;}#sk-container-id-1 div.sk-dashed-wrapped {border: 1px dashed gray;margin: 0 0.4em 0.5em 0.4em;box-sizing: border-box;padding-bottom: 0.4em;background-color: white;}#sk-container-id-1 div.sk-label label {font-family: monospace;font-weight: bold;display: inline-block;line-height: 1.2em;}#sk-container-id-1 div.sk-label-container {text-align: center;}#sk-container-id-1 div.sk-container {/* jupyter's `normalize.less` sets `[hidden] { display: none; }` but bootstrap.min.css set `[hidden] { display: none !important; }` so we also need the `!important` here to be able to override the default hidden behavior on the sphinx rendered scikit-learn.org. See: https://github.com/scikit-learn/scikit-learn/issues/21755 */display: inline-block !important;position: relative;}#sk-container-id-1 div.sk-text-repr-fallback {display: none;}</style><div id=\"sk-container-id-1\" class=\"sk-top-container\"><div class=\"sk-text-repr-fallback\"><pre>LogisticRegression()</pre><b>In a Jupyter environment, please rerun this cell to show the HTML representation or trust the notebook. <br />On GitHub, the HTML representation is unable to render, please try loading this page with nbviewer.org.</b></div><div class=\"sk-container\" hidden><div class=\"sk-item\"><div class=\"sk-estimator sk-toggleable\"><input class=\"sk-toggleable__control sk-hidden--visually\" id=\"sk-estimator-id-1\" type=\"checkbox\" checked><label for=\"sk-estimator-id-1\" class=\"sk-toggleable__label sk-toggleable__label-arrow\">LogisticRegression</label><div class=\"sk-toggleable__content\"><pre>LogisticRegression()</pre></div></div></div></div></div>"
      ],
      "text/plain": [
       "LogisticRegression()"
      ]
     },
     "execution_count": 8,
     "metadata": {},
     "output_type": "execute_result"
    }
   ],
   "source": [
    "# 1 - Import Package\n",
    "\n",
    "# 2 - Create Instance\n",
    "model = LogisticRegression()\n",
    "\n",
    "# 3 - Fit Instance\n",
    "model.fit(X, y)"
   ]
  },
  {
   "cell_type": "code",
   "execution_count": 9,
   "id": "0d6a8a7d-61cb-4ddd-b9a3-df91f9333f6d",
   "metadata": {},
   "outputs": [
    {
     "data": {
      "text/plain": [
       "array([[-7.94735110e-01, -1.95605436e-02, -2.31201150e-04,\n",
       "        -3.41631060e-04,  9.87949001e-04,  3.53689594e-01]])"
      ]
     },
     "execution_count": 9,
     "metadata": {},
     "output_type": "execute_result"
    }
   ],
   "source": [
    "# Coeff/Slope - m1, m2, m3, m4\n",
    "model.coef_"
   ]
  },
  {
   "cell_type": "code",
   "execution_count": 10,
   "id": "63ae5f55-a6c5-4fcc-8b8a-5a637b05a78b",
   "metadata": {},
   "outputs": [
    {
     "data": {
      "text/plain": [
       "array([-0.83745029])"
      ]
     },
     "execution_count": 10,
     "metadata": {},
     "output_type": "execute_result"
    }
   ],
   "source": [
    "# C \n",
    "model.intercept_"
   ]
  },
  {
   "cell_type": "code",
   "execution_count": 11,
   "id": "c61b4b40-72b3-4b35-a7f5-7ed847cdb7ce",
   "metadata": {},
   "outputs": [],
   "source": [
    "# 4 - Predict\n",
    "y_pred = model.predict(X)"
   ]
  },
  {
   "cell_type": "code",
   "execution_count": 12,
   "id": "c6627543-0ba3-421d-89ca-05fa2ccdf8d3",
   "metadata": {},
   "outputs": [
    {
     "data": {
      "text/plain": [
       "array([0, 0, 1, 1, 0, 0, 0, 0, 0, 0, 0, 0, 1, 0, 0, 0, 0, 0, 0, 1, 0, 0,\n",
       "       1, 0, 0, 0, 0, 0, 0, 0, 0, 0, 0, 0, 0, 0, 1, 0, 1, 0, 0, 0, 0, 0,\n",
       "       0, 1, 0, 1, 1, 0, 0, 1, 0, 1, 0, 1, 0, 1, 1, 0, 0, 0, 1, 1, 1, 0,\n",
       "       0, 0, 0, 0, 1, 0, 1, 1, 0, 0, 1, 1, 0, 1, 0, 0, 1, 0, 1, 0, 0, 0,\n",
       "       1, 0, 1, 0, 0, 1, 0, 1, 0, 0, 1, 1, 1, 0, 0, 0, 0, 0, 0, 0, 0, 1,\n",
       "       1, 0, 0, 0, 0, 0, 0, 1, 0, 0, 1, 0, 1, 1, 0, 0, 0, 0, 1, 1, 1, 0,\n",
       "       0, 0, 0, 1, 0, 0, 0, 0, 0, 0, 0, 0, 0, 0, 1, 1, 1, 0, 0, 0, 1, 1,\n",
       "       0, 1, 0, 0, 0, 1, 0, 0, 0, 1, 0, 0, 0, 1, 0, 1, 1, 1, 0, 0, 1, 0,\n",
       "       1, 0, 0, 0, 0, 0, 0, 0, 1, 0, 0, 0, 0, 0, 0, 0, 0, 0, 0, 1, 0, 0,\n",
       "       0, 0, 1, 0, 0, 0, 0, 0, 0, 0, 1, 1, 0, 0, 1, 0, 0, 1, 1, 1, 1, 0,\n",
       "       1, 1, 0, 0, 0, 1, 1, 1, 0, 0, 0, 1, 0, 0, 0, 0, 0, 1, 1, 1, 0, 1,\n",
       "       0, 0, 0, 1, 1, 0, 0, 0, 1, 0, 1, 1, 1, 1, 0, 0, 0, 0, 0, 0, 1, 0,\n",
       "       0, 0, 1, 0, 0, 0, 0, 0, 0, 0, 1, 0, 1, 1, 0, 0, 1, 1, 1, 1, 1, 1,\n",
       "       0, 0, 1, 1, 1, 1, 0, 1, 0, 0, 1, 1, 1, 1, 0, 0, 1, 1, 0, 1, 0, 0,\n",
       "       0, 1, 0, 0, 0, 0, 0, 0, 0, 1, 1, 0, 0, 0, 0, 0, 0, 1, 0, 0, 1, 0,\n",
       "       0, 1, 0, 0, 0, 0, 0, 0, 0, 0, 1, 0, 0, 0, 0, 1, 0, 0, 0, 1, 1, 0,\n",
       "       1, 0, 1, 1, 1, 1, 1, 0, 1, 0, 0, 0, 0, 0, 0, 0, 0, 0, 0, 1, 1, 0,\n",
       "       0, 0, 1, 0, 0, 0, 0, 0, 1, 1, 0, 0, 1, 0, 0, 1, 0, 0, 1, 1, 1, 0,\n",
       "       0, 0, 0, 1, 0, 1, 0, 0, 0, 0, 0, 0, 1, 0, 0, 1, 0, 0], dtype=int64)"
      ]
     },
     "execution_count": 12,
     "metadata": {},
     "output_type": "execute_result"
    }
   ],
   "source": [
    "y_pred"
   ]
  },
  {
   "cell_type": "code",
   "execution_count": 18,
   "id": "7c1fc10a-69fd-4175-8d79-8bd276091689",
   "metadata": {},
   "outputs": [],
   "source": [
    "# 4 - Predict Probability\n",
    "y_pred_proba = model.predict_proba(X)"
   ]
  },
  {
   "cell_type": "code",
   "execution_count": 30,
   "id": "02699b3a-4105-4847-86b4-e3fbb9dad42a",
   "metadata": {},
   "outputs": [
    {
     "data": {
      "text/plain": [
       "array([0.22518197, 0.48485383, 0.81773074, 0.70764045, 0.30934546,\n",
       "       0.33365702, 0.28810877, 0.21740511, 0.2641232 , 0.43991568,\n",
       "       0.16712089, 0.2205409 , 0.6761209 , 0.48602228, 0.19807541,\n",
       "       0.16299831, 0.29335012, 0.1974045 , 0.34830713, 0.82845271,\n",
       "       0.22387017, 0.4917004 , 0.51142221, 0.24501375, 0.34478086,\n",
       "       0.20262916, 0.31283904, 0.37212542, 0.35156588, 0.42803617,\n",
       "       0.30000928, 0.21921694, 0.25310826, 0.30592776, 0.22202691,\n",
       "       0.21154289, 0.52221261, 0.2058208 , 0.50163925, 0.20029098,\n",
       "       0.31949275, 0.33684134, 0.28822424, 0.29340288, 0.32442635,\n",
       "       0.71981636, 0.22559522, 0.72250035, 0.95399512, 0.30126625,\n",
       "       0.34406347, 0.75319355, 0.2343965 , 0.75958723, 0.29650896,\n",
       "       0.62318885, 0.18988963, 0.6961703 , 0.50063065, 0.47545519,\n",
       "       0.28900311, 0.23996154, 0.75943216, 0.65658189, 0.52642312,\n",
       "       0.31316888, 0.25046941, 0.34713481, 0.15304005, 0.23153888,\n",
       "       0.86233769, 0.48791608, 0.61758912, 0.79074651, 0.29376602,\n",
       "       0.2172703 , 0.7204899 , 0.52897003, 0.49315831, 0.71689059,\n",
       "       0.20347124, 0.30488472, 0.76524139, 0.37132921, 0.80210069,\n",
       "       0.37526506, 0.37901205, 0.20017326, 0.94090752, 0.37296286,\n",
       "       0.9487879 , 0.28009384, 0.3191045 , 0.74964581, 0.31994839,\n",
       "       0.82885747, 0.22980263, 0.42282773, 0.94564592, 0.52599758,\n",
       "       0.82802972, 0.38333005, 0.31885596, 0.411649  , 0.39092446,\n",
       "       0.31018245, 0.27408516, 0.21635149, 0.29635774, 0.83681117,\n",
       "       0.52436769, 0.17348509, 0.49676978, 0.4793997 , 0.16962743,\n",
       "       0.4024689 , 0.23191144, 0.84181969, 0.19657567, 0.28545266,\n",
       "       0.63226768, 0.38545706, 0.78362938, 0.85499978, 0.34784891,\n",
       "       0.23708403, 0.21906422, 0.31094994, 0.62560682, 0.75338352,\n",
       "       0.70658096, 0.1893581 , 0.17298871, 0.40681683, 0.20567896,\n",
       "       0.57528946, 0.42221286, 0.22875923, 0.20876933, 0.22343782,\n",
       "       0.37036554, 0.18619387, 0.18989765, 0.47921354, 0.29309331,\n",
       "       0.25485559, 0.62331473, 0.84298407, 0.84163351, 0.25661615,\n",
       "       0.49730244, 0.24525589, 0.82526143, 0.9586945 , 0.29878045,\n",
       "       0.56541412, 0.44099807, 0.20732216, 0.41952262, 0.97045728,\n",
       "       0.23661704, 0.47920136, 0.24335289, 0.84089675, 0.33986281,\n",
       "       0.2209067 , 0.17354244, 0.95060931, 0.49706797, 0.68603099,\n",
       "       0.77909458, 0.8076131 , 0.23719402, 0.24384794, 0.72992615,\n",
       "       0.20864688, 0.76084824, 0.42348933, 0.22155676, 0.30573864,\n",
       "       0.21867949, 0.21927568, 0.32205765, 0.2346118 , 0.50019103,\n",
       "       0.39857827, 0.22844622, 0.36570798, 0.44414442, 0.2024229 ,\n",
       "       0.47496419, 0.38171626, 0.23517823, 0.4707703 , 0.22906407,\n",
       "       0.50064537, 0.198914  , 0.26200888, 0.29959834, 0.21112859,\n",
       "       0.81930835, 0.39114197, 0.28935207, 0.44671259, 0.38131666,\n",
       "       0.42659455, 0.16934519, 0.23651099, 0.70076301, 0.7555989 ,\n",
       "       0.39680204, 0.20987924, 0.74792431, 0.39545169, 0.26815029,\n",
       "       0.8031826 , 0.72699584, 0.94712081, 0.7142408 , 0.21660473,\n",
       "       0.69374257, 0.58402917, 0.21298531, 0.19902133, 0.23905723,\n",
       "       0.8046392 , 0.66929847, 0.97085905, 0.19670903, 0.32272616,\n",
       "       0.20613087, 0.79279499, 0.19895929, 0.43499395, 0.39221526,\n",
       "       0.34666572, 0.49535903, 0.84030639, 0.8124311 , 0.95442639,\n",
       "       0.31394333, 0.74584715, 0.2175866 , 0.35753324, 0.24685303,\n",
       "       0.94855767, 0.68772902, 0.18467874, 0.34752906, 0.32146454,\n",
       "       0.79193801, 0.49601887, 0.72219012, 0.50115807, 0.66399173,\n",
       "       0.93283306, 0.47027196, 0.34745015, 0.20030527, 0.20773372,\n",
       "       0.19165887, 0.31764055, 0.69005531, 0.310607  , 0.22924956,\n",
       "       0.20642855, 0.95429122, 0.49685959, 0.20971842, 0.24005779,\n",
       "       0.45618597, 0.20246735, 0.34149473, 0.22162748, 0.94582907,\n",
       "       0.34701674, 0.95337713, 0.94692392, 0.39476486, 0.20097822,\n",
       "       0.85033953, 0.68781403, 0.72429545, 0.85142483, 0.83488122,\n",
       "       0.97014263, 0.21249181, 0.47135202, 0.69948952, 0.50132197,\n",
       "       0.75359764, 0.70649826, 0.46769363, 0.69817487, 0.18603187,\n",
       "       0.31874819, 0.52642778, 0.68226244, 0.8135265 , 0.83686647,\n",
       "       0.186386  , 0.31384037, 0.66166428, 0.71831964, 0.31377633,\n",
       "       0.69974574, 0.21237201, 0.21389357, 0.22634464, 0.79579638,\n",
       "       0.30380829, 0.21453694, 0.49403805, 0.45771698, 0.31810738,\n",
       "       0.37542744, 0.397878  , 0.97162385, 0.72810669, 0.1670598 ,\n",
       "       0.22121661, 0.23244667, 0.47697551, 0.1915328 , 0.2001056 ,\n",
       "       0.52317942, 0.37825589, 0.19842209, 0.75551702, 0.20847671,\n",
       "       0.29526027, 0.58155569, 0.29947565, 0.30800708, 0.49297104,\n",
       "       0.21156118, 0.21282815, 0.21325938, 0.23515765, 0.3441317 ,\n",
       "       0.75475614, 0.40876942, 0.27201552, 0.49064992, 0.29650592,\n",
       "       0.70614058, 0.2840704 , 0.25668504, 0.45450969, 0.66483276,\n",
       "       0.70873985, 0.22110439, 0.61361751, 0.33300394, 0.79046063,\n",
       "       0.55677579, 0.58553699, 0.59790824, 0.85667993, 0.20741759,\n",
       "       0.80874575, 0.2566087 , 0.38601178, 0.30479695, 0.18851682,\n",
       "       0.24728019, 0.33950247, 0.25178021, 0.37206001, 0.31596629,\n",
       "       0.34830592, 0.50893251, 0.52986298, 0.44040185, 0.21584369,\n",
       "       0.40119102, 0.74305868, 0.19839378, 0.27541076, 0.22466302,\n",
       "       0.19929146, 0.20867248, 0.70108331, 0.52777952, 0.18993086,\n",
       "       0.32692254, 0.95434608, 0.26636377, 0.22094808, 0.80539702,\n",
       "       0.47980089, 0.39788459, 0.72778159, 0.79143368, 0.67022648,\n",
       "       0.16996174, 0.47336973, 0.34700043, 0.2485093 , 0.57624503,\n",
       "       0.26667143, 0.79265716, 0.19372857, 0.20895925, 0.48724576,\n",
       "       0.20915021, 0.39166601, 0.34235186, 0.8267928 , 0.22153377,\n",
       "       0.1968783 , 0.75044195, 0.19483992, 0.16857044])"
      ]
     },
     "execution_count": 30,
     "metadata": {},
     "output_type": "execute_result"
    }
   ],
   "source": [
    "y_pred_proba[:,1]"
   ]
  },
  {
   "cell_type": "markdown",
   "id": "1014cc7d-8bc5-47ea-a682-65765929ea96",
   "metadata": {},
   "source": [
    "# Performance"
   ]
  },
  {
   "cell_type": "code",
   "execution_count": 17,
   "id": "2aef3913-9947-435e-91fd-0bdd7138b8c5",
   "metadata": {},
   "outputs": [
    {
     "name": "stdout",
     "output_type": "stream",
     "text": [
      "              precision    recall  f1-score   support\n",
      "\n",
      "           0       0.71      0.85      0.77       230\n",
      "           1       0.75      0.57      0.65       184\n",
      "\n",
      "    accuracy                           0.72       414\n",
      "   macro avg       0.73      0.71      0.71       414\n",
      "weighted avg       0.73      0.72      0.72       414\n",
      "\n"
     ]
    }
   ],
   "source": [
    "# y, y_pred\n",
    "from sklearn.metrics import classification_report\n",
    "\n",
    "# Calculate Mean Squared Error\n",
    "print(classification_report(y, y_pred))"
   ]
  }
 ],
 "metadata": {
  "kernelspec": {
   "display_name": "Python 3 (ipykernel)",
   "language": "python",
   "name": "python3"
  },
  "language_info": {
   "codemirror_mode": {
    "name": "ipython",
    "version": 3
   },
   "file_extension": ".py",
   "mimetype": "text/x-python",
   "name": "python",
   "nbconvert_exporter": "python",
   "pygments_lexer": "ipython3",
   "version": "3.10.9"
  }
 },
 "nbformat": 4,
 "nbformat_minor": 5
}
