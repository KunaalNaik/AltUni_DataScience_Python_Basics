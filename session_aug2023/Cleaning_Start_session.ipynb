{
 "cells": [
  {
   "cell_type": "markdown",
   "id": "7f7728b3-775d-4d0d-90c0-001f2c271e2a",
   "metadata": {},
   "source": [
    "Linear Regression"
   ]
  },
  {
   "cell_type": "markdown",
   "id": "c912f79a-d6a8-4c0b-9422-7d05007b9e0b",
   "metadata": {},
   "source": [
    "Mean, Median, Mode, Normal Distribution, Standard Deviation, Inter Quartile Range - Box Plot"
   ]
  },
  {
   "cell_type": "markdown",
   "id": "5ccd8b2e-bb97-4102-9fdb-ef0c9d90c687",
   "metadata": {},
   "source": [
    "# Import Packages"
   ]
  },
  {
   "cell_type": "code",
   "execution_count": 1,
   "id": "e71daa86-c44b-4fc1-bae7-3b894ed77652",
   "metadata": {},
   "outputs": [],
   "source": [
    "import pandas as pd\n",
    "import numpy as np"
   ]
  },
  {
   "cell_type": "markdown",
   "id": "bd49dcdc-8b88-409b-93b9-f6253bf33bc8",
   "metadata": {},
   "source": [
    "# Import Data"
   ]
  },
  {
   "cell_type": "code",
   "execution_count": 2,
   "id": "79c25551-f74a-4822-ac49-09e4aaf02b20",
   "metadata": {},
   "outputs": [],
   "source": [
    "df = pd.read_csv('bike_buyers.csv')"
   ]
  },
  {
   "cell_type": "markdown",
   "id": "cc660eb4-26f6-4da4-87b4-609b3dc10e1d",
   "metadata": {},
   "source": [
    "# Check Data"
   ]
  },
  {
   "cell_type": "code",
   "execution_count": 3,
   "id": "98fc8e99-88dd-45f1-ba61-05a78c5a001c",
   "metadata": {},
   "outputs": [
    {
     "name": "stdout",
     "output_type": "stream",
     "text": [
      "<class 'pandas.core.frame.DataFrame'>\n",
      "RangeIndex: 1000 entries, 0 to 999\n",
      "Data columns (total 13 columns):\n",
      " #   Column            Non-Null Count  Dtype  \n",
      "---  ------            --------------  -----  \n",
      " 0   ID                1000 non-null   int64  \n",
      " 1   Marital Status    993 non-null    object \n",
      " 2   Gender            989 non-null    object \n",
      " 3   Income            994 non-null    float64\n",
      " 4   Children          992 non-null    float64\n",
      " 5   Education         1000 non-null   object \n",
      " 6   Occupation        1000 non-null   object \n",
      " 7   Home Owner        996 non-null    object \n",
      " 8   Cars              991 non-null    float64\n",
      " 9   Commute Distance  1000 non-null   object \n",
      " 10  Region            1000 non-null   object \n",
      " 11  Age               992 non-null    float64\n",
      " 12  Purchased Bike    1000 non-null   object \n",
      "dtypes: float64(4), int64(1), object(8)\n",
      "memory usage: 101.7+ KB\n"
     ]
    }
   ],
   "source": [
    "df.info()"
   ]
  },
  {
   "cell_type": "markdown",
   "id": "26f82cba-3bd5-4310-bdd4-4c05ad3735e2",
   "metadata": {},
   "source": [
    "# 1/ Missing Values"
   ]
  },
  {
   "cell_type": "markdown",
   "id": "6099fef6-fe88-4131-9eab-8fdb496054fb",
   "metadata": {
    "tags": []
   },
   "source": [
    "## Are there missing values?"
   ]
  },
  {
   "cell_type": "code",
   "execution_count": 4,
   "id": "c90ab585-8e9c-453e-9752-6075796af0c3",
   "metadata": {},
   "outputs": [
    {
     "data": {
      "text/plain": [
       "ID                   0\n",
       "Marital Status       7\n",
       "Gender              11\n",
       "Income               6\n",
       "Children             8\n",
       "Education            0\n",
       "Occupation           0\n",
       "Home Owner           4\n",
       "Cars                 9\n",
       "Commute Distance     0\n",
       "Region               0\n",
       "Age                  8\n",
       "Purchased Bike       0\n",
       "dtype: int64"
      ]
     },
     "execution_count": 4,
     "metadata": {},
     "output_type": "execute_result"
    }
   ],
   "source": [
    "df.isnull().sum()"
   ]
  },
  {
   "cell_type": "code",
   "execution_count": null,
   "id": "f15606b0-e9d6-41c0-9185-b16b94b8d30b",
   "metadata": {},
   "outputs": [],
   "source": []
  },
  {
   "cell_type": "markdown",
   "id": "018b996c-9a31-4ad7-a752-b5c91d73be7a",
   "metadata": {
    "tags": []
   },
   "source": [
    "## Treat Numerical Missing Values"
   ]
  },
  {
   "cell_type": "code",
   "execution_count": 5,
   "id": "f1675bc1-4463-4827-ae5c-f188940d901a",
   "metadata": {},
   "outputs": [
    {
     "data": {
      "text/plain": [
       "56267.605633802814"
      ]
     },
     "execution_count": 5,
     "metadata": {},
     "output_type": "execute_result"
    }
   ],
   "source": [
    "# Calculate the mean of the \"Income\" column\n",
    "mean_value = df['Income'].mean()\n",
    "\n",
    "# Fill the missing values in the \"Income\" column with the calculated mean\n",
    "df['Income'].fillna(mean_value, inplace=True)\n",
    "\n",
    "mean_value"
   ]
  },
  {
   "cell_type": "code",
   "execution_count": 6,
   "id": "ae977898-20db-4057-8e1a-ede9273bfb94",
   "metadata": {},
   "outputs": [
    {
     "data": {
      "text/plain": [
       "ID                   0\n",
       "Marital Status       7\n",
       "Gender              11\n",
       "Income               0\n",
       "Children             8\n",
       "Education            0\n",
       "Occupation           0\n",
       "Home Owner           4\n",
       "Cars                 9\n",
       "Commute Distance     0\n",
       "Region               0\n",
       "Age                  8\n",
       "Purchased Bike       0\n",
       "dtype: int64"
      ]
     },
     "execution_count": 6,
     "metadata": {},
     "output_type": "execute_result"
    }
   ],
   "source": [
    "df.isnull().sum()"
   ]
  },
  {
   "cell_type": "code",
   "execution_count": 7,
   "id": "025070ae-4716-4b09-bb95-d890713d93ca",
   "metadata": {},
   "outputs": [
    {
     "data": {
      "text/plain": [
       "44.181451612903224"
      ]
     },
     "execution_count": 7,
     "metadata": {},
     "output_type": "execute_result"
    }
   ],
   "source": [
    "# Calculate the mean of the \"Income\" column\n",
    "mean_value = df['Age'].mean()\n",
    "\n",
    "# Fill the missing values in the \"Income\" column with the calculated mean\n",
    "df['Age'].fillna(mean_value, inplace=True)\n",
    "\n",
    "mean_value"
   ]
  },
  {
   "cell_type": "markdown",
   "id": "0d5b7dd8-9c32-433a-824f-41123ed87a90",
   "metadata": {
    "tags": []
   },
   "source": [
    "## Treat Categorical Missing Values "
   ]
  },
  {
   "cell_type": "code",
   "execution_count": 8,
   "id": "7e60e480-3042-405d-860a-a87dc14ab2da",
   "metadata": {},
   "outputs": [],
   "source": [
    "df['Marital Status'].fillna( 'Missing' , inplace = True)\n",
    "df['Gender'].fillna( 'Missing' , inplace = True)\n",
    "df['Home Owner'].fillna( 'Missing' , inplace = True)\n",
    "df['Cars'].fillna( 'Missing' , inplace = True)"
   ]
  },
  {
   "cell_type": "code",
   "execution_count": null,
   "id": "8506752f-7269-429e-ab75-7b9e053e3ceb",
   "metadata": {},
   "outputs": [],
   "source": []
  },
  {
   "cell_type": "markdown",
   "id": "cebca044-9728-4ac3-863f-a7ceff3fb9af",
   "metadata": {},
   "source": [
    "### Check for missing values"
   ]
  },
  {
   "cell_type": "code",
   "execution_count": 9,
   "id": "2d017258-0d4f-48bf-838e-10e82301c5c8",
   "metadata": {},
   "outputs": [
    {
     "data": {
      "text/plain": [
       "ID                  0\n",
       "Marital Status      0\n",
       "Gender              0\n",
       "Income              0\n",
       "Children            8\n",
       "Education           0\n",
       "Occupation          0\n",
       "Home Owner          0\n",
       "Cars                0\n",
       "Commute Distance    0\n",
       "Region              0\n",
       "Age                 0\n",
       "Purchased Bike      0\n",
       "dtype: int64"
      ]
     },
     "execution_count": 9,
     "metadata": {},
     "output_type": "execute_result"
    }
   ],
   "source": [
    "df.isnull().sum()"
   ]
  },
  {
   "cell_type": "markdown",
   "id": "d02f0e86-a4d2-47a2-8c2b-72f97ccab1d9",
   "metadata": {},
   "source": [
    "# 2/ Feature Transformation\n",
    "- Numerical - Transformation\n",
    "- Categorical - Encoding"
   ]
  },
  {
   "cell_type": "code",
   "execution_count": 10,
   "id": "d86d3496-b0bc-4dad-8284-23707e1f5a80",
   "metadata": {},
   "outputs": [
    {
     "name": "stdout",
     "output_type": "stream",
     "text": [
      "<class 'pandas.core.frame.DataFrame'>\n",
      "RangeIndex: 1000 entries, 0 to 999\n",
      "Data columns (total 13 columns):\n",
      " #   Column            Non-Null Count  Dtype  \n",
      "---  ------            --------------  -----  \n",
      " 0   ID                1000 non-null   int64  \n",
      " 1   Marital Status    1000 non-null   object \n",
      " 2   Gender            1000 non-null   object \n",
      " 3   Income            1000 non-null   float64\n",
      " 4   Children          992 non-null    float64\n",
      " 5   Education         1000 non-null   object \n",
      " 6   Occupation        1000 non-null   object \n",
      " 7   Home Owner        1000 non-null   object \n",
      " 8   Cars              1000 non-null   object \n",
      " 9   Commute Distance  1000 non-null   object \n",
      " 10  Region            1000 non-null   object \n",
      " 11  Age               1000 non-null   float64\n",
      " 12  Purchased Bike    1000 non-null   object \n",
      "dtypes: float64(3), int64(1), object(9)\n",
      "memory usage: 101.7+ KB\n"
     ]
    }
   ],
   "source": [
    "df.info()"
   ]
  },
  {
   "cell_type": "code",
   "execution_count": 11,
   "id": "34b0ec4f-6929-4eda-9c02-d27418e4e51e",
   "metadata": {},
   "outputs": [
    {
     "data": {
      "text/html": [
       "<div>\n",
       "<style scoped>\n",
       "    .dataframe tbody tr th:only-of-type {\n",
       "        vertical-align: middle;\n",
       "    }\n",
       "\n",
       "    .dataframe tbody tr th {\n",
       "        vertical-align: top;\n",
       "    }\n",
       "\n",
       "    .dataframe thead th {\n",
       "        text-align: right;\n",
       "    }\n",
       "</style>\n",
       "<table border=\"1\" class=\"dataframe\">\n",
       "  <thead>\n",
       "    <tr style=\"text-align: right;\">\n",
       "      <th></th>\n",
       "      <th>ID</th>\n",
       "      <th>Income</th>\n",
       "      <th>Children</th>\n",
       "      <th>Age</th>\n",
       "    </tr>\n",
       "  </thead>\n",
       "  <tbody>\n",
       "    <tr>\n",
       "      <th>count</th>\n",
       "      <td>1000.000000</td>\n",
       "      <td>1000.000000</td>\n",
       "      <td>992.000000</td>\n",
       "      <td>1000.000000</td>\n",
       "    </tr>\n",
       "    <tr>\n",
       "      <th>mean</th>\n",
       "      <td>19965.992000</td>\n",
       "      <td>56267.605634</td>\n",
       "      <td>1.910282</td>\n",
       "      <td>44.181452</td>\n",
       "    </tr>\n",
       "    <tr>\n",
       "      <th>std</th>\n",
       "      <td>5347.333948</td>\n",
       "      <td>30974.380206</td>\n",
       "      <td>1.626910</td>\n",
       "      <td>11.316422</td>\n",
       "    </tr>\n",
       "    <tr>\n",
       "      <th>min</th>\n",
       "      <td>11000.000000</td>\n",
       "      <td>10000.000000</td>\n",
       "      <td>0.000000</td>\n",
       "      <td>25.000000</td>\n",
       "    </tr>\n",
       "    <tr>\n",
       "      <th>25%</th>\n",
       "      <td>15290.750000</td>\n",
       "      <td>30000.000000</td>\n",
       "      <td>0.000000</td>\n",
       "      <td>35.000000</td>\n",
       "    </tr>\n",
       "    <tr>\n",
       "      <th>50%</th>\n",
       "      <td>19744.000000</td>\n",
       "      <td>60000.000000</td>\n",
       "      <td>2.000000</td>\n",
       "      <td>43.000000</td>\n",
       "    </tr>\n",
       "    <tr>\n",
       "      <th>75%</th>\n",
       "      <td>24470.750000</td>\n",
       "      <td>70000.000000</td>\n",
       "      <td>3.000000</td>\n",
       "      <td>52.000000</td>\n",
       "    </tr>\n",
       "    <tr>\n",
       "      <th>max</th>\n",
       "      <td>29447.000000</td>\n",
       "      <td>170000.000000</td>\n",
       "      <td>5.000000</td>\n",
       "      <td>89.000000</td>\n",
       "    </tr>\n",
       "  </tbody>\n",
       "</table>\n",
       "</div>"
      ],
      "text/plain": [
       "                 ID         Income    Children          Age\n",
       "count   1000.000000    1000.000000  992.000000  1000.000000\n",
       "mean   19965.992000   56267.605634    1.910282    44.181452\n",
       "std     5347.333948   30974.380206    1.626910    11.316422\n",
       "min    11000.000000   10000.000000    0.000000    25.000000\n",
       "25%    15290.750000   30000.000000    0.000000    35.000000\n",
       "50%    19744.000000   60000.000000    2.000000    43.000000\n",
       "75%    24470.750000   70000.000000    3.000000    52.000000\n",
       "max    29447.000000  170000.000000    5.000000    89.000000"
      ]
     },
     "execution_count": 11,
     "metadata": {},
     "output_type": "execute_result"
    }
   ],
   "source": [
    "df.describe()"
   ]
  },
  {
   "cell_type": "markdown",
   "id": "1098741a-7d05-42a7-bd53-3202c0babb5c",
   "metadata": {},
   "source": [
    "## Transform Numerical into Log"
   ]
  },
  {
   "cell_type": "code",
   "execution_count": 14,
   "id": "06ab98da-b5fb-4756-b2fd-a2f9056065d3",
   "metadata": {},
   "outputs": [],
   "source": [
    "df['Income'] = np.log(df['Income'])"
   ]
  },
  {
   "cell_type": "code",
   "execution_count": 15,
   "id": "a33db0c0-d8d2-42d3-9130-2f9a3f3ed6fc",
   "metadata": {},
   "outputs": [],
   "source": [
    "df['Children'] = np.log(df['Children']+1)"
   ]
  },
  {
   "cell_type": "code",
   "execution_count": 16,
   "id": "dae64542-fbc5-4ed6-82f4-9c4e14b1dac6",
   "metadata": {},
   "outputs": [],
   "source": [
    "df['Age'] = np.log(df['Age'])"
   ]
  },
  {
   "cell_type": "markdown",
   "id": "765adc19-96de-47bd-83b3-6c359a845132",
   "metadata": {},
   "source": [
    "## Outliers"
   ]
  },
  {
   "cell_type": "code",
   "execution_count": 17,
   "id": "d5330279-cc21-44be-bb7d-2000b954fbf6",
   "metadata": {},
   "outputs": [],
   "source": [
    "# Calculate the first and third quartiles (Q1 and Q3)\n",
    "Q1 = df['Income'].quantile(0.25)\n",
    "Q3 = df['Income'].quantile(0.75)\n",
    "\n",
    "# Calculate the Interquartile Range (IQR)\n",
    "IQR = Q3 - Q1\n",
    "\n",
    "# Define the bounds for the outliers\n",
    "lower_bound = Q1 - 1.5 * IQR\n",
    "upper_bound = Q3 + 1.5 * IQR\n",
    "\n",
    "# Replace values below the lower bound with the lower bound itself\n",
    "df['Income'] = df['Income'].apply(lambda x: lower_bound if x < lower_bound else x)\n",
    "\n",
    "# Replace values above the upper bound with the upper bound itself\n",
    "df['Income'] = df['Income'].apply(lambda x: upper_bound if x > upper_bound else x)"
   ]
  },
  {
   "cell_type": "code",
   "execution_count": 18,
   "id": "50816be5-c776-4249-8121-f0487d9b6d81",
   "metadata": {},
   "outputs": [
    {
     "data": {
      "text/html": [
       "<div>\n",
       "<style scoped>\n",
       "    .dataframe tbody tr th:only-of-type {\n",
       "        vertical-align: middle;\n",
       "    }\n",
       "\n",
       "    .dataframe tbody tr th {\n",
       "        vertical-align: top;\n",
       "    }\n",
       "\n",
       "    .dataframe thead th {\n",
       "        text-align: right;\n",
       "    }\n",
       "</style>\n",
       "<table border=\"1\" class=\"dataframe\">\n",
       "  <thead>\n",
       "    <tr style=\"text-align: right;\">\n",
       "      <th></th>\n",
       "      <th>ID</th>\n",
       "      <th>Income</th>\n",
       "      <th>Children</th>\n",
       "      <th>Age</th>\n",
       "    </tr>\n",
       "  </thead>\n",
       "  <tbody>\n",
       "    <tr>\n",
       "      <th>count</th>\n",
       "      <td>1000.000000</td>\n",
       "      <td>1000.000000</td>\n",
       "      <td>992.000000</td>\n",
       "      <td>1000.000000</td>\n",
       "    </tr>\n",
       "    <tr>\n",
       "      <th>mean</th>\n",
       "      <td>19965.992000</td>\n",
       "      <td>2.373800</td>\n",
       "      <td>0.886140</td>\n",
       "      <td>3.755938</td>\n",
       "    </tr>\n",
       "    <tr>\n",
       "      <th>std</th>\n",
       "      <td>5347.333948</td>\n",
       "      <td>0.062101</td>\n",
       "      <td>0.632541</td>\n",
       "      <td>0.254891</td>\n",
       "    </tr>\n",
       "    <tr>\n",
       "      <th>min</th>\n",
       "      <td>11000.000000</td>\n",
       "      <td>2.220327</td>\n",
       "      <td>0.000000</td>\n",
       "      <td>3.218876</td>\n",
       "    </tr>\n",
       "    <tr>\n",
       "      <th>25%</th>\n",
       "      <td>15290.750000</td>\n",
       "      <td>2.333013</td>\n",
       "      <td>0.000000</td>\n",
       "      <td>3.555348</td>\n",
       "    </tr>\n",
       "    <tr>\n",
       "      <th>50%</th>\n",
       "      <td>19744.000000</td>\n",
       "      <td>2.398086</td>\n",
       "      <td>1.098612</td>\n",
       "      <td>3.761200</td>\n",
       "    </tr>\n",
       "    <tr>\n",
       "      <th>75%</th>\n",
       "      <td>24470.750000</td>\n",
       "      <td>2.412000</td>\n",
       "      <td>1.386294</td>\n",
       "      <td>3.951244</td>\n",
       "    </tr>\n",
       "    <tr>\n",
       "      <th>max</th>\n",
       "      <td>29447.000000</td>\n",
       "      <td>2.488530</td>\n",
       "      <td>1.791759</td>\n",
       "      <td>4.488636</td>\n",
       "    </tr>\n",
       "  </tbody>\n",
       "</table>\n",
       "</div>"
      ],
      "text/plain": [
       "                 ID       Income    Children          Age\n",
       "count   1000.000000  1000.000000  992.000000  1000.000000\n",
       "mean   19965.992000     2.373800    0.886140     3.755938\n",
       "std     5347.333948     0.062101    0.632541     0.254891\n",
       "min    11000.000000     2.220327    0.000000     3.218876\n",
       "25%    15290.750000     2.333013    0.000000     3.555348\n",
       "50%    19744.000000     2.398086    1.098612     3.761200\n",
       "75%    24470.750000     2.412000    1.386294     3.951244\n",
       "max    29447.000000     2.488530    1.791759     4.488636"
      ]
     },
     "execution_count": 18,
     "metadata": {},
     "output_type": "execute_result"
    }
   ],
   "source": [
    "df.describe()"
   ]
  },
  {
   "cell_type": "markdown",
   "id": "4c12989b-73dd-4503-8efa-1426bf83da27",
   "metadata": {},
   "source": [
    "## Create a House Owner /Bike Owner Flag"
   ]
  },
  {
   "cell_type": "code",
   "execution_count": null,
   "id": "c4649ace-1960-4903-b403-e166d8ae0b84",
   "metadata": {},
   "outputs": [],
   "source": []
  },
  {
   "cell_type": "markdown",
   "id": "75d9c7d2-ab15-405b-914a-b49857d9e42d",
   "metadata": {},
   "source": [
    "## Encode Categorical into Ordinal Encoding"
   ]
  },
  {
   "cell_type": "code",
   "execution_count": null,
   "id": "fa75e27d-5057-4f38-b827-b8d7d4815b45",
   "metadata": {},
   "outputs": [],
   "source": []
  },
  {
   "cell_type": "code",
   "execution_count": null,
   "id": "47116d4d-893f-4f0c-acb4-994fa4fd6aa1",
   "metadata": {},
   "outputs": [],
   "source": []
  },
  {
   "cell_type": "code",
   "execution_count": null,
   "id": "cc9c2f3e-b54a-4129-b970-5c9e00233a65",
   "metadata": {},
   "outputs": [],
   "source": []
  },
  {
   "cell_type": "markdown",
   "id": "7b6e3640-1ddb-48f7-9f2a-aa47f52b563d",
   "metadata": {},
   "source": [
    "# Export Cleaned Data"
   ]
  },
  {
   "cell_type": "code",
   "execution_count": null,
   "id": "80685b2c-a6d4-47be-8728-b5890cf2b4c5",
   "metadata": {},
   "outputs": [],
   "source": []
  }
 ],
 "metadata": {
  "kernelspec": {
   "display_name": "Python 3 (ipykernel)",
   "language": "python",
   "name": "python3"
  },
  "language_info": {
   "codemirror_mode": {
    "name": "ipython",
    "version": 3
   },
   "file_extension": ".py",
   "mimetype": "text/x-python",
   "name": "python",
   "nbconvert_exporter": "python",
   "pygments_lexer": "ipython3",
   "version": "3.10.9"
  }
 },
 "nbformat": 4,
 "nbformat_minor": 5
}
