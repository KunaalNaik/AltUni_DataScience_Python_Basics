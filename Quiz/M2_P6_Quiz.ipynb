{
 "cells": [
  {
   "cell_type": "markdown",
   "id": "a1bd6d25-fafd-4c6e-b51e-9548c0258f4e",
   "metadata": {},
   "source": [
    "# Introduction to Python\n",
    "---\n",
    "## Quiz"
   ]
  },
  {
   "cell_type": "markdown",
   "id": "7b10f802-c64c-4367-8658-b19c02266509",
   "metadata": {},
   "source": [
    "### Conditional Statements \n",
    "- What will this code print?"
   ]
  },
  {
   "cell_type": "code",
   "execution_count": null,
   "id": "4eee901b-e3ef-48a9-afa4-efbe575ecc40",
   "metadata": {},
   "outputs": [],
   "source": [
    "age = 13\n",
    "\n",
    "if (age <= 12):\n",
    "    print(\"Child\")\n",
    "elif (age <= 15 and age >=19) :\n",
    "    print(\"Teen\")\n",
    "else:\n",
    "    print(\"Adult\")"
   ]
  },
  {
   "cell_type": "markdown",
   "id": "e29f5698-31de-40ae-b039-e8a91ff8e6b4",
   "metadata": {},
   "source": [
    "### Loops\n",
    "- How many lines will this code print?"
   ]
  },
  {
   "cell_type": "code",
   "execution_count": null,
   "id": "442968a0-c417-400c-8837-f1731a4d6a09",
   "metadata": {},
   "outputs": [],
   "source": [
    "name = [\"Raj\", \"Rahul\", \"Sachin\"]\n",
    "age = [23,21]\n",
    "\n",
    "for x, y in zip(name, age):\n",
    "    print(x, y)"
   ]
  },
  {
   "cell_type": "markdown",
   "id": "7ae8fc11-1550-4d57-a672-46fc3bdbb505",
   "metadata": {},
   "source": [
    "### Built In Functions\n",
    "- Which of these function sets are not built in?"
   ]
  },
  {
   "cell_type": "markdown",
   "id": "3e6d271d-f222-4348-95d3-18554dd81fb6",
   "metadata": {},
   "source": [
    "1. sum(), max(), min()\n",
    "2. mean(), median(), mode()\n",
    "3. range(), list()\n",
    "4. isupper(), islower()"
   ]
  }
 ],
 "metadata": {
  "kernelspec": {
   "display_name": "Python 3",
   "language": "python",
   "name": "python3"
  },
  "language_info": {
   "codemirror_mode": {
    "name": "ipython",
    "version": 3
   },
   "file_extension": ".py",
   "mimetype": "text/x-python",
   "name": "python",
   "nbconvert_exporter": "python",
   "pygments_lexer": "ipython3",
   "version": "3.8.8"
  },
  "toc-autonumbering": true
 },
 "nbformat": 4,
 "nbformat_minor": 5
}
