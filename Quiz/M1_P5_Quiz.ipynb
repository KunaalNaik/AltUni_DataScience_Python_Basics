{
 "cells": [
  {
   "cell_type": "markdown",
   "id": "a1bd6d25-fafd-4c6e-b51e-9548c0258f4e",
   "metadata": {},
   "source": [
    "# Introduction to Python\n",
    "---\n",
    "## Quiz"
   ]
  },
  {
   "cell_type": "markdown",
   "id": "7b10f802-c64c-4367-8658-b19c02266509",
   "metadata": {},
   "source": [
    "### Variable Sequence\n",
    "- What does variable my_salary print? "
   ]
  },
  {
   "cell_type": "code",
   "execution_count": 1,
   "id": "4eee901b-e3ef-48a9-afa4-efbe575ecc40",
   "metadata": {},
   "outputs": [
    {
     "name": "stdout",
     "output_type": "stream",
     "text": [
      "600000\n"
     ]
    }
   ],
   "source": [
    "my_salary = 450000\n",
    "\n",
    "increment = 150000\n",
    "\n",
    "my_salary = my_salary + increment\n",
    "\n",
    "print(my_salary)"
   ]
  },
  {
   "cell_type": "markdown",
   "id": "e29f5698-31de-40ae-b039-e8a91ff8e6b4",
   "metadata": {},
   "source": [
    "### Data Type Conversion\n",
    "- What is the output of the following code?"
   ]
  },
  {
   "cell_type": "code",
   "execution_count": 2,
   "id": "442968a0-c417-400c-8837-f1731a4d6a09",
   "metadata": {},
   "outputs": [
    {
     "name": "stdout",
     "output_type": "stream",
     "text": [
      "My Salary is :  750000\n"
     ]
    }
   ],
   "source": [
    "sentence = 'My Salary is : '\n",
    "my_salary = 750000\n",
    "\n",
    "print(sentence, my_salary)"
   ]
  },
  {
   "cell_type": "markdown",
   "id": "7ae8fc11-1550-4d57-a672-46fc3bdbb505",
   "metadata": {},
   "source": [
    "### Input & Print\n",
    "- Can you divide these numbers by taking input?\n",
    "- What is printed in the output?"
   ]
  },
  {
   "cell_type": "code",
   "execution_count": null,
   "id": "e6214fda-a99b-4be8-b28f-3a9c1f05502c",
   "metadata": {},
   "outputs": [],
   "source": [
    "first_number = \n",
    "second_number = \n",
    "\n",
    "print(\"\\n\")\n",
    "print(\"First Number:\", first_number)\n",
    "print(\"Second Number:\", second_number)\n",
    "\n",
    "division = \n",
    "\n",
    "print(\"Addition of two number is: \", division)"
   ]
  }
 ],
 "metadata": {
  "kernelspec": {
   "display_name": "Python 3",
   "language": "python",
   "name": "python3"
  },
  "language_info": {
   "codemirror_mode": {
    "name": "ipython",
    "version": 3
   },
   "file_extension": ".py",
   "mimetype": "text/x-python",
   "name": "python",
   "nbconvert_exporter": "python",
   "pygments_lexer": "ipython3",
   "version": "3.8.8"
  },
  "toc-autonumbering": true
 },
 "nbformat": 4,
 "nbformat_minor": 5
}
